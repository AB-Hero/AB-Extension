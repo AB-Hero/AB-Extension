{
 "cells": [
  {
   "cell_type": "code",
   "execution_count": 8,
   "metadata": {},
   "outputs": [],
   "source": [
    "from tree_lstm import TreeLSTM, Tree, BatchedTree\n",
    "import json\n",
    "from sentence_transformers import SentenceTransformer\n",
    "from lxml import html, etree"
   ]
  },
  {
   "cell_type": "code",
   "execution_count": 43,
   "metadata": {},
   "outputs": [
    {
     "ename": "SyntaxError",
     "evalue": "'(' was never closed (2417899904.py, line 16)",
     "output_type": "error",
     "traceback": [
      "\u001b[0;36m  Cell \u001b[0;32mIn[43], line 16\u001b[0;36m\u001b[0m\n\u001b[0;31m    print(tag\u001b[0m\n\u001b[0m         ^\u001b[0m\n\u001b[0;31mSyntaxError\u001b[0m\u001b[0;31m:\u001b[0m '(' was never closed\n"
     ]
    }
   ],
   "source": [
    "class Node:\n",
    "    def __init__(self, parent_id = None):\n",
    "        self.children = []\n",
    "        self.data = \"\"\n",
    "        self.embedding = None\n",
    "        self.id = None\n",
    "        self.parent_id = parent_id\n",
    "    def add_child(self, child):\n",
    "        self.children.append(child)\n",
    "    def set_data(self, tag, text):\n",
    "        self.data = \"\"\n",
    "        if tag is etree.Comment:\n",
    "            self.data += \"comment\"\n",
    "        elif tag != None:\n",
    "            self.data += tag\n",
    "                \n",
    "        \n",
    "        # print(tag)\n",
    "        # print(text)     \n",
    "        if text != None:\n",
    "            self.data += text\n",
    "\n",
    "    def set_id(self, id):\n",
    "        self.id = id\n",
    "    \n",
    "\n",
    "model = SentenceTransformer('sentence-transformers/all-roberta-large-v1')\n",
    "H_SIZE = 30\n",
    "X_SIZE = 128\n",
    "\n",
    "\n",
    "def loadData():\n",
    "    f = open('../Dataset/data.json', 'r')\n",
    "    val = f.read()\n",
    "    f.close()\n",
    "    d = json.loads(val)\n",
    "    return d\n",
    "\n",
    "def idTree(htmlTree):\n",
    "    nodeIds = dict()\n",
    "    count = 0\n",
    "    for i in htmlTree.getiterator():\n",
    "        nodeIds[i] = count\n",
    "        count += 1\n",
    "    return nodeIds\n",
    "\n",
    "def convertCodeToTree(code):\n",
    "    t = html.fromstring(code)\n",
    "    tree = Node()\n",
    "\n",
    "    nodeIds = idTree(t)\n",
    "    \n",
    "    # Want dict mapping object -> id\n",
    "\n",
    "\n",
    "    def parseTree(htmlTree, treeObject):\n",
    "        tree_id = nodeIds[htmlTree]\n",
    "        treeObject.set_data(htmlTree.tag, htmlTree.text)\n",
    "        treeObject.set_id(tree_id)\n",
    "        for treeChild in htmlTree.getchildren():\n",
    "            new_tree = Node(parent_id = tree_id)\n",
    "            parseTree(treeChild, new_tree)\n",
    "            treeObject.add_child(new_tree)\n",
    "        return treeObject\n",
    "\n",
    "    return parseTree(t, tree)\n",
    "\n",
    "\n",
    "def embbedNode(nodes):\n",
    "    nodes.embeddings =  model.encode([nodes.data])[0]\n",
    "    for i in nodes.children:\n",
    "        embbedNode(i)\n",
    "\n",
    "def makeTree(t):\n",
    "    finTree = Tree(H_SIZE)\n",
    "    \n",
    "\n",
    "    def addNodes(root):\n",
    "        finTree.add_node(parent_id = root.parent_id, tensor=root.embedding)\n",
    "        for i in root.children:\n",
    "            addNodes(i)\n",
    "\n",
    "    addNodes(t)\n",
    "    return finTree\n",
    "\n",
    "def batchTrees(treeList):\n",
    "    return BatchedTree(treeList)\n",
    "\n",
    "def trainLSTM(data):\n",
    "    model = TreeLSTM(x_size=X_SIZE, h_size=H_SIZE, dropout=0.3, cell_type='child_sum')\n",
    "    return model(data)\n",
    "\n",
    "\n",
    ", te"
   ]
  },
  {
   "cell_type": "code",
   "execution_count": 4,
   "metadata": {},
   "outputs": [],
   "source": [
    "data = loadData()\n",
    "treeList = []\n",
    "for i in data['urls']:\n",
    "    trep = convertCodeToTree(data['code'][i])\n",
    "    embbedNode(trep)\n",
    "    lstmTree = makeTree(trep)\n",
    "    treeList.append(lstmTree)\n",
    "\n",
    "lstmTreeBatch = batchTrees(treeList)\n",
    "\n"
   ]
  },
  {
   "cell_type": "code",
   "execution_count": 9,
   "metadata": {},
   "outputs": [],
   "source": [
    "model = trainLSTM(lstmTreeBatch)"
   ]
  },
  {
   "cell_type": "code",
   "execution_count": 19,
   "metadata": {},
   "outputs": [],
   "source": [
    "data = loadData()"
   ]
  },
  {
   "cell_type": "code",
   "execution_count": 41,
   "metadata": {},
   "outputs": [
    {
     "name": "stdout",
     "output_type": "stream",
     "text": [
      "<cyfunction Comment at 0x29c9c97d0>\n",
      "<cyfunction Comment at 0x29c9c97d0>\n",
      "<cyfunction Comment at 0x29c9c97d0>\n",
      "<cyfunction Comment at 0x29c9c97d0>\n"
     ]
    },
    {
     "data": {
      "text/plain": [
       "<__main__.Node at 0x164bdb490>"
      ]
     },
     "execution_count": 41,
     "metadata": {},
     "output_type": "execute_result"
    }
   ],
   "source": [
    "test = data['code'][data['urls'][0]]\n",
    "# t = html.fromstring(test)\n",
    "convertCodeToTree(test)"
   ]
  },
  {
   "cell_type": "code",
   "execution_count": 42,
   "metadata": {},
   "outputs": [
    {
     "name": "stdout",
     "output_type": "stream",
     "text": [
      "head\n",
      "body\n"
     ]
    }
   ],
   "source": [
    "for i in t.getchildren():\n",
    "    print(i.tag)"
   ]
  },
  {
   "cell_type": "code",
   "execution_count": null,
   "metadata": {},
   "outputs": [],
   "source": []
  }
 ],
 "metadata": {
  "kernelspec": {
   "display_name": "Python 3",
   "language": "python",
   "name": "python3"
  },
  "language_info": {
   "codemirror_mode": {
    "name": "ipython",
    "version": 3
   },
   "file_extension": ".py",
   "mimetype": "text/x-python",
   "name": "python",
   "nbconvert_exporter": "python",
   "pygments_lexer": "ipython3",
   "version": "3.11.5"
  }
 },
 "nbformat": 4,
 "nbformat_minor": 2
}
