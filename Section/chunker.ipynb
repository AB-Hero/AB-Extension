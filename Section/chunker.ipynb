{
 "cells": [
  {
   "cell_type": "code",
   "execution_count": 224,
   "metadata": {},
   "outputs": [],
   "source": [
    "from bs4 import BeautifulSoup\n",
    "from bs4.element import Comment\n",
    "import urllib.request\n",
    "import openai\n",
    "from sentence_transformers import SentenceTransformer, util\n",
    "from lxml import html as hm\n",
    "import requests\n",
    "from lxml import etree\n",
    "import numpy as np\n",
    "from sklearn.metrics import fbeta_score, confusion_matrix, ConfusionMatrixDisplay\n",
    "import matplotlib.pyplot as plt\n",
    "from collections import defaultdict\n",
    "import pickle"
   ]
  },
  {
   "cell_type": "code",
   "execution_count": null,
   "metadata": {},
   "outputs": [],
   "source": [
    "sections = ['Navigation', 'Product Info', 'Product Images', 'Checkout Options', 'shopping cart', 'other']\n",
    "\n",
    "similarityThreshold = 0.3\n",
    "model = SentenceTransformer('sentence-transformers/all-roberta-large-v1')"
   ]
  },
  {
   "cell_type": "markdown",
   "metadata": {},
   "source": [
    "# HELPER FUNCTIONS"
   ]
  },
  {
   "cell_type": "code",
   "execution_count": 260,
   "metadata": {},
   "outputs": [],
   "source": [
    "openai.api_key = os.getenv(\"OPENAI_API_KEY\")\n",
    "\n",
    "def tag_visible(element):\n",
    "    if element.parent.name in ['style', 'script', 'head', 'title', 'meta', '[document]']:\n",
    "        return False\n",
    "    if isinstance(element, Comment):\n",
    "        return False\n",
    "    \n",
    "    if str(element).strip() == \"\":\n",
    "        return False\n",
    "    \n",
    "    return True\n",
    "\n",
    "\n",
    "def visible_node(node):\n",
    "    if node.tag in ['style', 'script', 'head', 'title', 'meta', '[document]']:\n",
    "        return False\n",
    "    \n",
    "    if node.tag is etree.Comment:\n",
    "        return False\n",
    "    \n",
    "    if node.text == None or node.text.strip() == \"\":\n",
    "        return False\n",
    "    \n",
    "    return True\n",
    "\n",
    "\n",
    "def text_from_html(body):\n",
    "    soup = BeautifulSoup(body, 'html.parser')\n",
    "    texts = soup.findAll(text=True)\n",
    "    visible_texts = filter(tag_visible, texts)  \n",
    "    return texts, u\" \".join(t.strip() for t in visible_texts)\n",
    "\n",
    "\n",
    "def queryOracle(text, prompt):\n",
    "    sectionsOfInterest = \", \".join(sections[:-1]) + \" and \" + sections[-1]\n",
    "    prompt = prompt.format(sectionsOfInterest)\n",
    "    completion = openai.ChatCompletion.create(\n",
    "    model = \"gpt-4\",\n",
    "    temperature = 0.8,\n",
    "    max_tokens = 2000,\n",
    "    messages = [\n",
    "        {\"role\": \"system\", \"content\": prompt},\n",
    "        {\"role\": \"user\", \"content\": text}\n",
    "    ]\n",
    "    )\n",
    "    return completion\n",
    "\n",
    "def bert_sim(text1, text2):\n",
    "    embeddings = model.encode([text1,text2])\n",
    "    res = util.pytorch_cos_sim(embeddings[0], embeddings[1])\n",
    "    return res.numpy()[0][0] \n",
    "\n",
    "\n",
    "def classify(code):\n",
    "    elements, readableText = text_from_html(code)\n",
    "    elements = list(filter(tag_visible, elements))\n",
    "    # prompt = \"You are a webpage analyzer. You find sections of text on an e-commerce webpage that correspond to {}\"\n",
    "    prompt = \"You are a webpage analyzer. You will be given readable text from an HTML DOM Tree of an e-commerce website in the form: Text For Node 1, Text For Node 2, Text for Node 3. Classify the nodes into the following categories: {}\"\n",
    "    prompt += \". Return the classification in the following format: Class1: Text for node 1, Text for node 2 Class2: Text for node 3\"\n",
    "\n",
    "    response = queryOracle(readableText, prompt).choices[0].message\n",
    "    tree = hm.fromstring(code)\n",
    "    capSections = [i.title() for i in sections]\n",
    "\n",
    "    parts = []\n",
    "    inds = []\n",
    "    for count, i in enumerate(capSections):\n",
    "        p = response.content.find(i, 0)\n",
    "        start = p+len(i)+1\n",
    "        inds.append(p+len(i)+1)\n",
    "        sub = response.content[start : len(response.content)]\n",
    "        parts.append(sub)\n",
    "        if (count > 0):\n",
    "            parts[count-1] = parts[count-1][0: p - inds[count-1]]\n",
    "\n",
    "    nodes = []\n",
    "    nodeMap = {}\n",
    "    count = 0\n",
    "    for i in tree.getiterator():\n",
    "        nodes.append(i)\n",
    "        nodeMap[i] = count\n",
    "        count +=1\n",
    "\n",
    "\n",
    "    # for i in nodes:\n",
    "    nodes = list(filter(visible_node, nodes))\n",
    "    nodetext = [i.text.strip() for i in nodes]\n",
    "\n",
    "\n",
    "    domCode = {}\n",
    "    for count, section in enumerate(sections[:-1]):\n",
    "        print(\"Finding HTML Code for {} Section\".format(section))\n",
    "        l = len(parts[count])\n",
    "        res = []\n",
    "        vals = []\n",
    "        for i in nodetext:\n",
    "            em = bert_sim(i, parts[count])\n",
    "            res.append(em)\n",
    "            vals.append(i)\n",
    "\n",
    "        inds = [nodes[c] for c, i in enumerate(res) if i > similarityThreshold]\n",
    "        scores = [i for i in res if i > similarityThreshold]\n",
    "        inds = [nodeMap[i] for i in inds]\n",
    "        domCode[section] = (inds, scores)\n",
    "\n",
    "    return domCode\n",
    "\n",
    "def processPred(d, size):\n",
    "    res = [6 for i in range(size)]\n",
    "\n",
    "    allInds = []\n",
    "    allIndsScoring = []\n",
    "    reference = []\n",
    "\n",
    "    for count, i in enumerate(d):\n",
    "        c = 0\n",
    "        for j in d[i][0]:\n",
    "            # print(d[i])\n",
    "            # print(j)\n",
    "            res[j] = count\n",
    "            allInds.append(j)\n",
    "            allIndsScoring.append(d[i][1][c])\n",
    "            reference.append(count)\n",
    "            c+=1\n",
    "\n",
    "    def list_duplicates(seq):\n",
    "        tally = defaultdict(list)\n",
    "        for i,item in enumerate(seq):\n",
    "            tally[item].append(i)\n",
    "        return ((key,locs) for key,locs in tally.items() \n",
    "                                if len(locs)>1)\n",
    "\n",
    "    rep = []\n",
    "    for dup in sorted(list_duplicates(allInds)):\n",
    "        rep.append(dup)\n",
    "\n",
    "    for i in rep:\n",
    "\n",
    "        maxInd = 0\n",
    "        score = 0\n",
    "        for j in i[1]:\n",
    "            if score < allIndsScoring[j]:\n",
    "                maxInd = j\n",
    "        ref = reference[maxInd]\n",
    "        # print(ref)\n",
    "        # print(d[ref[0]][0][ref[1]])\n",
    "        res[i[0]] = ref\n",
    "    \n",
    "    # print(res)\n",
    "    \n",
    "    return res \n",
    "\n",
    "   "
   ]
  },
  {
   "cell_type": "markdown",
   "metadata": {},
   "source": [
    "# SCRAPE PAGE & FIND CONTENT SECTIONS"
   ]
  },
  {
   "cell_type": "code",
   "execution_count": 150,
   "metadata": {},
   "outputs": [
    {
     "name": "stderr",
     "output_type": "stream",
     "text": [
      "/var/folders/ys/yk2qwk_x4nqdv328vt6g5kxr0000gn/T/ipykernel_18492/3647402521.py:31: DeprecationWarning: The 'text' argument to find()-type methods is deprecated. Use 'string' instead.\n",
      "  texts = soup.findAll(text=True)\n"
     ]
    },
    {
     "ename": "KeyboardInterrupt",
     "evalue": "",
     "output_type": "error",
     "traceback": [
      "\u001b[0;31m---------------------------------------------------------------------------\u001b[0m",
      "\u001b[0;31mKeyboardInterrupt\u001b[0m                         Traceback (most recent call last)",
      "\u001b[1;32m/Users/rohit/Desktop/AB-Extension/Section/chunker.ipynb Cell 6\u001b[0m line \u001b[0;36m4\n\u001b[1;32m      <a href='vscode-notebook-cell:/Users/rohit/Desktop/AB-Extension/Section/chunker.ipynb#W5sZmlsZQ%3D%3D?line=1'>2</a>\u001b[0m elements, readableText \u001b[39m=\u001b[39m text_from_html(html)\n\u001b[1;32m      <a href='vscode-notebook-cell:/Users/rohit/Desktop/AB-Extension/Section/chunker.ipynb#W5sZmlsZQ%3D%3D?line=2'>3</a>\u001b[0m elements \u001b[39m=\u001b[39m \u001b[39mlist\u001b[39m(\u001b[39mfilter\u001b[39m(tag_visible, elements))\n\u001b[0;32m----> <a href='vscode-notebook-cell:/Users/rohit/Desktop/AB-Extension/Section/chunker.ipynb#W5sZmlsZQ%3D%3D?line=3'>4</a>\u001b[0m response \u001b[39m=\u001b[39m queryOracle(readableText)\u001b[39m.\u001b[39mchoices[\u001b[39m0\u001b[39m]\u001b[39m.\u001b[39mmessage\n\u001b[1;32m      <a href='vscode-notebook-cell:/Users/rohit/Desktop/AB-Extension/Section/chunker.ipynb#W5sZmlsZQ%3D%3D?line=4'>5</a>\u001b[0m response\n",
      "\u001b[1;32m/Users/rohit/Desktop/AB-Extension/Section/chunker.ipynb Cell 6\u001b[0m line \u001b[0;36m4\n\u001b[1;32m     <a href='vscode-notebook-cell:/Users/rohit/Desktop/AB-Extension/Section/chunker.ipynb#W5sZmlsZQ%3D%3D?line=37'>38</a>\u001b[0m prompt \u001b[39m=\u001b[39m \u001b[39m\"\u001b[39m\u001b[39mYou are a webpage analyzer. You will be given readable text from an HTML DOM Tree of an e-commerce website in the form, Node 1: Text Node 2: Text Node 3: Text. Classify the nodes into the following categories: \u001b[39m\u001b[39m{}\u001b[39;00m\u001b[39m\"\u001b[39m\u001b[39m.\u001b[39mformat(sectionsOfInterest)\n\u001b[1;32m     <a href='vscode-notebook-cell:/Users/rohit/Desktop/AB-Extension/Section/chunker.ipynb#W5sZmlsZQ%3D%3D?line=38'>39</a>\u001b[0m prompt \u001b[39m+\u001b[39m\u001b[39m=\u001b[39m \u001b[39m\"\u001b[39m\u001b[39m. Return the classification in the following format: Node 1: Class Node 2: Class Node 3: Class\u001b[39m\u001b[39m\"\u001b[39m\n\u001b[0;32m---> <a href='vscode-notebook-cell:/Users/rohit/Desktop/AB-Extension/Section/chunker.ipynb#W5sZmlsZQ%3D%3D?line=39'>40</a>\u001b[0m completion \u001b[39m=\u001b[39m openai\u001b[39m.\u001b[39;49mChatCompletion\u001b[39m.\u001b[39;49mcreate(\n\u001b[1;32m     <a href='vscode-notebook-cell:/Users/rohit/Desktop/AB-Extension/Section/chunker.ipynb#W5sZmlsZQ%3D%3D?line=40'>41</a>\u001b[0m model \u001b[39m=\u001b[39;49m \u001b[39m\"\u001b[39;49m\u001b[39mgpt-4\u001b[39;49m\u001b[39m\"\u001b[39;49m,\n\u001b[1;32m     <a href='vscode-notebook-cell:/Users/rohit/Desktop/AB-Extension/Section/chunker.ipynb#W5sZmlsZQ%3D%3D?line=41'>42</a>\u001b[0m temperature \u001b[39m=\u001b[39;49m \u001b[39m0.8\u001b[39;49m,\n\u001b[1;32m     <a href='vscode-notebook-cell:/Users/rohit/Desktop/AB-Extension/Section/chunker.ipynb#W5sZmlsZQ%3D%3D?line=42'>43</a>\u001b[0m max_tokens \u001b[39m=\u001b[39;49m \u001b[39m2000\u001b[39;49m,\n\u001b[1;32m     <a href='vscode-notebook-cell:/Users/rohit/Desktop/AB-Extension/Section/chunker.ipynb#W5sZmlsZQ%3D%3D?line=43'>44</a>\u001b[0m messages \u001b[39m=\u001b[39;49m [\n\u001b[1;32m     <a href='vscode-notebook-cell:/Users/rohit/Desktop/AB-Extension/Section/chunker.ipynb#W5sZmlsZQ%3D%3D?line=44'>45</a>\u001b[0m     {\u001b[39m\"\u001b[39;49m\u001b[39mrole\u001b[39;49m\u001b[39m\"\u001b[39;49m: \u001b[39m\"\u001b[39;49m\u001b[39msystem\u001b[39;49m\u001b[39m\"\u001b[39;49m, \u001b[39m\"\u001b[39;49m\u001b[39mcontent\u001b[39;49m\u001b[39m\"\u001b[39;49m: prompt},\n\u001b[1;32m     <a href='vscode-notebook-cell:/Users/rohit/Desktop/AB-Extension/Section/chunker.ipynb#W5sZmlsZQ%3D%3D?line=45'>46</a>\u001b[0m     {\u001b[39m\"\u001b[39;49m\u001b[39mrole\u001b[39;49m\u001b[39m\"\u001b[39;49m: \u001b[39m\"\u001b[39;49m\u001b[39muser\u001b[39;49m\u001b[39m\"\u001b[39;49m, \u001b[39m\"\u001b[39;49m\u001b[39mcontent\u001b[39;49m\u001b[39m\"\u001b[39;49m: text}\n\u001b[1;32m     <a href='vscode-notebook-cell:/Users/rohit/Desktop/AB-Extension/Section/chunker.ipynb#W5sZmlsZQ%3D%3D?line=46'>47</a>\u001b[0m ]\n\u001b[1;32m     <a href='vscode-notebook-cell:/Users/rohit/Desktop/AB-Extension/Section/chunker.ipynb#W5sZmlsZQ%3D%3D?line=47'>48</a>\u001b[0m )\n\u001b[1;32m     <a href='vscode-notebook-cell:/Users/rohit/Desktop/AB-Extension/Section/chunker.ipynb#W5sZmlsZQ%3D%3D?line=48'>49</a>\u001b[0m \u001b[39mreturn\u001b[39;00m completion\n",
      "File \u001b[0;32m/Library/Frameworks/Python.framework/Versions/3.11/lib/python3.11/site-packages/openai/api_resources/chat_completion.py:25\u001b[0m, in \u001b[0;36mChatCompletion.create\u001b[0;34m(cls, *args, **kwargs)\u001b[0m\n\u001b[1;32m     23\u001b[0m \u001b[39mwhile\u001b[39;00m \u001b[39mTrue\u001b[39;00m:\n\u001b[1;32m     24\u001b[0m     \u001b[39mtry\u001b[39;00m:\n\u001b[0;32m---> 25\u001b[0m         \u001b[39mreturn\u001b[39;00m \u001b[39msuper\u001b[39;49m()\u001b[39m.\u001b[39;49mcreate(\u001b[39m*\u001b[39;49margs, \u001b[39m*\u001b[39;49m\u001b[39m*\u001b[39;49mkwargs)\n\u001b[1;32m     26\u001b[0m     \u001b[39mexcept\u001b[39;00m TryAgain \u001b[39mas\u001b[39;00m e:\n\u001b[1;32m     27\u001b[0m         \u001b[39mif\u001b[39;00m timeout \u001b[39mis\u001b[39;00m \u001b[39mnot\u001b[39;00m \u001b[39mNone\u001b[39;00m \u001b[39mand\u001b[39;00m time\u001b[39m.\u001b[39mtime() \u001b[39m>\u001b[39m start \u001b[39m+\u001b[39m timeout:\n",
      "File \u001b[0;32m/Library/Frameworks/Python.framework/Versions/3.11/lib/python3.11/site-packages/openai/api_resources/abstract/engine_api_resource.py:155\u001b[0m, in \u001b[0;36mEngineAPIResource.create\u001b[0;34m(cls, api_key, api_base, api_type, request_id, api_version, organization, **params)\u001b[0m\n\u001b[1;32m    129\u001b[0m \u001b[39m@classmethod\u001b[39m\n\u001b[1;32m    130\u001b[0m \u001b[39mdef\u001b[39;00m \u001b[39mcreate\u001b[39m(\n\u001b[1;32m    131\u001b[0m     \u001b[39mcls\u001b[39m,\n\u001b[0;32m   (...)\u001b[0m\n\u001b[1;32m    138\u001b[0m     \u001b[39m*\u001b[39m\u001b[39m*\u001b[39mparams,\n\u001b[1;32m    139\u001b[0m ):\n\u001b[1;32m    140\u001b[0m     (\n\u001b[1;32m    141\u001b[0m         deployment_id,\n\u001b[1;32m    142\u001b[0m         engine,\n\u001b[0;32m   (...)\u001b[0m\n\u001b[1;32m    152\u001b[0m         api_key, api_base, api_type, api_version, organization, \u001b[39m*\u001b[39m\u001b[39m*\u001b[39mparams\n\u001b[1;32m    153\u001b[0m     )\n\u001b[0;32m--> 155\u001b[0m     response, _, api_key \u001b[39m=\u001b[39m requestor\u001b[39m.\u001b[39;49mrequest(\n\u001b[1;32m    156\u001b[0m         \u001b[39m\"\u001b[39;49m\u001b[39mpost\u001b[39;49m\u001b[39m\"\u001b[39;49m,\n\u001b[1;32m    157\u001b[0m         url,\n\u001b[1;32m    158\u001b[0m         params\u001b[39m=\u001b[39;49mparams,\n\u001b[1;32m    159\u001b[0m         headers\u001b[39m=\u001b[39;49mheaders,\n\u001b[1;32m    160\u001b[0m         stream\u001b[39m=\u001b[39;49mstream,\n\u001b[1;32m    161\u001b[0m         request_id\u001b[39m=\u001b[39;49mrequest_id,\n\u001b[1;32m    162\u001b[0m         request_timeout\u001b[39m=\u001b[39;49mrequest_timeout,\n\u001b[1;32m    163\u001b[0m     )\n\u001b[1;32m    165\u001b[0m     \u001b[39mif\u001b[39;00m stream:\n\u001b[1;32m    166\u001b[0m         \u001b[39m# must be an iterator\u001b[39;00m\n\u001b[1;32m    167\u001b[0m         \u001b[39massert\u001b[39;00m \u001b[39mnot\u001b[39;00m \u001b[39misinstance\u001b[39m(response, OpenAIResponse)\n",
      "File \u001b[0;32m/Library/Frameworks/Python.framework/Versions/3.11/lib/python3.11/site-packages/openai/api_requestor.py:289\u001b[0m, in \u001b[0;36mAPIRequestor.request\u001b[0;34m(self, method, url, params, headers, files, stream, request_id, request_timeout)\u001b[0m\n\u001b[1;32m    278\u001b[0m \u001b[39mdef\u001b[39;00m \u001b[39mrequest\u001b[39m(\n\u001b[1;32m    279\u001b[0m     \u001b[39mself\u001b[39m,\n\u001b[1;32m    280\u001b[0m     method,\n\u001b[0;32m   (...)\u001b[0m\n\u001b[1;32m    287\u001b[0m     request_timeout: Optional[Union[\u001b[39mfloat\u001b[39m, Tuple[\u001b[39mfloat\u001b[39m, \u001b[39mfloat\u001b[39m]]] \u001b[39m=\u001b[39m \u001b[39mNone\u001b[39;00m,\n\u001b[1;32m    288\u001b[0m ) \u001b[39m-\u001b[39m\u001b[39m>\u001b[39m Tuple[Union[OpenAIResponse, Iterator[OpenAIResponse]], \u001b[39mbool\u001b[39m, \u001b[39mstr\u001b[39m]:\n\u001b[0;32m--> 289\u001b[0m     result \u001b[39m=\u001b[39m \u001b[39mself\u001b[39;49m\u001b[39m.\u001b[39;49mrequest_raw(\n\u001b[1;32m    290\u001b[0m         method\u001b[39m.\u001b[39;49mlower(),\n\u001b[1;32m    291\u001b[0m         url,\n\u001b[1;32m    292\u001b[0m         params\u001b[39m=\u001b[39;49mparams,\n\u001b[1;32m    293\u001b[0m         supplied_headers\u001b[39m=\u001b[39;49mheaders,\n\u001b[1;32m    294\u001b[0m         files\u001b[39m=\u001b[39;49mfiles,\n\u001b[1;32m    295\u001b[0m         stream\u001b[39m=\u001b[39;49mstream,\n\u001b[1;32m    296\u001b[0m         request_id\u001b[39m=\u001b[39;49mrequest_id,\n\u001b[1;32m    297\u001b[0m         request_timeout\u001b[39m=\u001b[39;49mrequest_timeout,\n\u001b[1;32m    298\u001b[0m     )\n\u001b[1;32m    299\u001b[0m     resp, got_stream \u001b[39m=\u001b[39m \u001b[39mself\u001b[39m\u001b[39m.\u001b[39m_interpret_response(result, stream)\n\u001b[1;32m    300\u001b[0m     \u001b[39mreturn\u001b[39;00m resp, got_stream, \u001b[39mself\u001b[39m\u001b[39m.\u001b[39mapi_key\n",
      "File \u001b[0;32m/Library/Frameworks/Python.framework/Versions/3.11/lib/python3.11/site-packages/openai/api_requestor.py:606\u001b[0m, in \u001b[0;36mAPIRequestor.request_raw\u001b[0;34m(self, method, url, params, supplied_headers, files, stream, request_id, request_timeout)\u001b[0m\n\u001b[1;32m    604\u001b[0m     _thread_context\u001b[39m.\u001b[39msession_create_time \u001b[39m=\u001b[39m time\u001b[39m.\u001b[39mtime()\n\u001b[1;32m    605\u001b[0m \u001b[39mtry\u001b[39;00m:\n\u001b[0;32m--> 606\u001b[0m     result \u001b[39m=\u001b[39m _thread_context\u001b[39m.\u001b[39;49msession\u001b[39m.\u001b[39;49mrequest(\n\u001b[1;32m    607\u001b[0m         method,\n\u001b[1;32m    608\u001b[0m         abs_url,\n\u001b[1;32m    609\u001b[0m         headers\u001b[39m=\u001b[39;49mheaders,\n\u001b[1;32m    610\u001b[0m         data\u001b[39m=\u001b[39;49mdata,\n\u001b[1;32m    611\u001b[0m         files\u001b[39m=\u001b[39;49mfiles,\n\u001b[1;32m    612\u001b[0m         stream\u001b[39m=\u001b[39;49mstream,\n\u001b[1;32m    613\u001b[0m         timeout\u001b[39m=\u001b[39;49mrequest_timeout \u001b[39mif\u001b[39;49;00m request_timeout \u001b[39melse\u001b[39;49;00m TIMEOUT_SECS,\n\u001b[1;32m    614\u001b[0m         proxies\u001b[39m=\u001b[39;49m_thread_context\u001b[39m.\u001b[39;49msession\u001b[39m.\u001b[39;49mproxies,\n\u001b[1;32m    615\u001b[0m     )\n\u001b[1;32m    616\u001b[0m \u001b[39mexcept\u001b[39;00m requests\u001b[39m.\u001b[39mexceptions\u001b[39m.\u001b[39mTimeout \u001b[39mas\u001b[39;00m e:\n\u001b[1;32m    617\u001b[0m     \u001b[39mraise\u001b[39;00m error\u001b[39m.\u001b[39mTimeout(\u001b[39m\"\u001b[39m\u001b[39mRequest timed out: \u001b[39m\u001b[39m{}\u001b[39;00m\u001b[39m\"\u001b[39m\u001b[39m.\u001b[39mformat(e)) \u001b[39mfrom\u001b[39;00m \u001b[39me\u001b[39;00m\n",
      "File \u001b[0;32m/Library/Frameworks/Python.framework/Versions/3.11/lib/python3.11/site-packages/requests/sessions.py:589\u001b[0m, in \u001b[0;36mSession.request\u001b[0;34m(self, method, url, params, data, headers, cookies, files, auth, timeout, allow_redirects, proxies, hooks, stream, verify, cert, json)\u001b[0m\n\u001b[1;32m    584\u001b[0m send_kwargs \u001b[39m=\u001b[39m {\n\u001b[1;32m    585\u001b[0m     \u001b[39m\"\u001b[39m\u001b[39mtimeout\u001b[39m\u001b[39m\"\u001b[39m: timeout,\n\u001b[1;32m    586\u001b[0m     \u001b[39m\"\u001b[39m\u001b[39mallow_redirects\u001b[39m\u001b[39m\"\u001b[39m: allow_redirects,\n\u001b[1;32m    587\u001b[0m }\n\u001b[1;32m    588\u001b[0m send_kwargs\u001b[39m.\u001b[39mupdate(settings)\n\u001b[0;32m--> 589\u001b[0m resp \u001b[39m=\u001b[39m \u001b[39mself\u001b[39;49m\u001b[39m.\u001b[39;49msend(prep, \u001b[39m*\u001b[39;49m\u001b[39m*\u001b[39;49msend_kwargs)\n\u001b[1;32m    591\u001b[0m \u001b[39mreturn\u001b[39;00m resp\n",
      "File \u001b[0;32m/Library/Frameworks/Python.framework/Versions/3.11/lib/python3.11/site-packages/requests/sessions.py:703\u001b[0m, in \u001b[0;36mSession.send\u001b[0;34m(self, request, **kwargs)\u001b[0m\n\u001b[1;32m    700\u001b[0m start \u001b[39m=\u001b[39m preferred_clock()\n\u001b[1;32m    702\u001b[0m \u001b[39m# Send the request\u001b[39;00m\n\u001b[0;32m--> 703\u001b[0m r \u001b[39m=\u001b[39m adapter\u001b[39m.\u001b[39;49msend(request, \u001b[39m*\u001b[39;49m\u001b[39m*\u001b[39;49mkwargs)\n\u001b[1;32m    705\u001b[0m \u001b[39m# Total elapsed time of the request (approximately)\u001b[39;00m\n\u001b[1;32m    706\u001b[0m elapsed \u001b[39m=\u001b[39m preferred_clock() \u001b[39m-\u001b[39m start\n",
      "File \u001b[0;32m/Library/Frameworks/Python.framework/Versions/3.11/lib/python3.11/site-packages/requests/adapters.py:486\u001b[0m, in \u001b[0;36mHTTPAdapter.send\u001b[0;34m(self, request, stream, timeout, verify, cert, proxies)\u001b[0m\n\u001b[1;32m    483\u001b[0m     timeout \u001b[39m=\u001b[39m TimeoutSauce(connect\u001b[39m=\u001b[39mtimeout, read\u001b[39m=\u001b[39mtimeout)\n\u001b[1;32m    485\u001b[0m \u001b[39mtry\u001b[39;00m:\n\u001b[0;32m--> 486\u001b[0m     resp \u001b[39m=\u001b[39m conn\u001b[39m.\u001b[39;49murlopen(\n\u001b[1;32m    487\u001b[0m         method\u001b[39m=\u001b[39;49mrequest\u001b[39m.\u001b[39;49mmethod,\n\u001b[1;32m    488\u001b[0m         url\u001b[39m=\u001b[39;49murl,\n\u001b[1;32m    489\u001b[0m         body\u001b[39m=\u001b[39;49mrequest\u001b[39m.\u001b[39;49mbody,\n\u001b[1;32m    490\u001b[0m         headers\u001b[39m=\u001b[39;49mrequest\u001b[39m.\u001b[39;49mheaders,\n\u001b[1;32m    491\u001b[0m         redirect\u001b[39m=\u001b[39;49m\u001b[39mFalse\u001b[39;49;00m,\n\u001b[1;32m    492\u001b[0m         assert_same_host\u001b[39m=\u001b[39;49m\u001b[39mFalse\u001b[39;49;00m,\n\u001b[1;32m    493\u001b[0m         preload_content\u001b[39m=\u001b[39;49m\u001b[39mFalse\u001b[39;49;00m,\n\u001b[1;32m    494\u001b[0m         decode_content\u001b[39m=\u001b[39;49m\u001b[39mFalse\u001b[39;49;00m,\n\u001b[1;32m    495\u001b[0m         retries\u001b[39m=\u001b[39;49m\u001b[39mself\u001b[39;49m\u001b[39m.\u001b[39;49mmax_retries,\n\u001b[1;32m    496\u001b[0m         timeout\u001b[39m=\u001b[39;49mtimeout,\n\u001b[1;32m    497\u001b[0m         chunked\u001b[39m=\u001b[39;49mchunked,\n\u001b[1;32m    498\u001b[0m     )\n\u001b[1;32m    500\u001b[0m \u001b[39mexcept\u001b[39;00m (ProtocolError, \u001b[39mOSError\u001b[39;00m) \u001b[39mas\u001b[39;00m err:\n\u001b[1;32m    501\u001b[0m     \u001b[39mraise\u001b[39;00m \u001b[39mConnectionError\u001b[39;00m(err, request\u001b[39m=\u001b[39mrequest)\n",
      "File \u001b[0;32m/Library/Frameworks/Python.framework/Versions/3.11/lib/python3.11/site-packages/urllib3/connectionpool.py:715\u001b[0m, in \u001b[0;36mHTTPConnectionPool.urlopen\u001b[0;34m(self, method, url, body, headers, retries, redirect, assert_same_host, timeout, pool_timeout, release_conn, chunked, body_pos, **response_kw)\u001b[0m\n\u001b[1;32m    712\u001b[0m     \u001b[39mself\u001b[39m\u001b[39m.\u001b[39m_prepare_proxy(conn)\n\u001b[1;32m    714\u001b[0m \u001b[39m# Make the request on the httplib connection object.\u001b[39;00m\n\u001b[0;32m--> 715\u001b[0m httplib_response \u001b[39m=\u001b[39m \u001b[39mself\u001b[39;49m\u001b[39m.\u001b[39;49m_make_request(\n\u001b[1;32m    716\u001b[0m     conn,\n\u001b[1;32m    717\u001b[0m     method,\n\u001b[1;32m    718\u001b[0m     url,\n\u001b[1;32m    719\u001b[0m     timeout\u001b[39m=\u001b[39;49mtimeout_obj,\n\u001b[1;32m    720\u001b[0m     body\u001b[39m=\u001b[39;49mbody,\n\u001b[1;32m    721\u001b[0m     headers\u001b[39m=\u001b[39;49mheaders,\n\u001b[1;32m    722\u001b[0m     chunked\u001b[39m=\u001b[39;49mchunked,\n\u001b[1;32m    723\u001b[0m )\n\u001b[1;32m    725\u001b[0m \u001b[39m# If we're going to release the connection in ``finally:``, then\u001b[39;00m\n\u001b[1;32m    726\u001b[0m \u001b[39m# the response doesn't need to know about the connection. Otherwise\u001b[39;00m\n\u001b[1;32m    727\u001b[0m \u001b[39m# it will also try to release it and we'll have a double-release\u001b[39;00m\n\u001b[1;32m    728\u001b[0m \u001b[39m# mess.\u001b[39;00m\n\u001b[1;32m    729\u001b[0m response_conn \u001b[39m=\u001b[39m conn \u001b[39mif\u001b[39;00m \u001b[39mnot\u001b[39;00m release_conn \u001b[39melse\u001b[39;00m \u001b[39mNone\u001b[39;00m\n",
      "File \u001b[0;32m/Library/Frameworks/Python.framework/Versions/3.11/lib/python3.11/site-packages/urllib3/connectionpool.py:467\u001b[0m, in \u001b[0;36mHTTPConnectionPool._make_request\u001b[0;34m(self, conn, method, url, timeout, chunked, **httplib_request_kw)\u001b[0m\n\u001b[1;32m    462\u001b[0m             httplib_response \u001b[39m=\u001b[39m conn\u001b[39m.\u001b[39mgetresponse()\n\u001b[1;32m    463\u001b[0m         \u001b[39mexcept\u001b[39;00m \u001b[39mBaseException\u001b[39;00m \u001b[39mas\u001b[39;00m e:\n\u001b[1;32m    464\u001b[0m             \u001b[39m# Remove the TypeError from the exception chain in\u001b[39;00m\n\u001b[1;32m    465\u001b[0m             \u001b[39m# Python 3 (including for exceptions like SystemExit).\u001b[39;00m\n\u001b[1;32m    466\u001b[0m             \u001b[39m# Otherwise it looks like a bug in the code.\u001b[39;00m\n\u001b[0;32m--> 467\u001b[0m             six\u001b[39m.\u001b[39;49mraise_from(e, \u001b[39mNone\u001b[39;49;00m)\n\u001b[1;32m    468\u001b[0m \u001b[39mexcept\u001b[39;00m (SocketTimeout, BaseSSLError, SocketError) \u001b[39mas\u001b[39;00m e:\n\u001b[1;32m    469\u001b[0m     \u001b[39mself\u001b[39m\u001b[39m.\u001b[39m_raise_timeout(err\u001b[39m=\u001b[39me, url\u001b[39m=\u001b[39murl, timeout_value\u001b[39m=\u001b[39mread_timeout)\n",
      "File \u001b[0;32m<string>:3\u001b[0m, in \u001b[0;36mraise_from\u001b[0;34m(value, from_value)\u001b[0m\n",
      "File \u001b[0;32m/Library/Frameworks/Python.framework/Versions/3.11/lib/python3.11/site-packages/urllib3/connectionpool.py:462\u001b[0m, in \u001b[0;36mHTTPConnectionPool._make_request\u001b[0;34m(self, conn, method, url, timeout, chunked, **httplib_request_kw)\u001b[0m\n\u001b[1;32m    459\u001b[0m \u001b[39mexcept\u001b[39;00m \u001b[39mTypeError\u001b[39;00m:\n\u001b[1;32m    460\u001b[0m     \u001b[39m# Python 3\u001b[39;00m\n\u001b[1;32m    461\u001b[0m     \u001b[39mtry\u001b[39;00m:\n\u001b[0;32m--> 462\u001b[0m         httplib_response \u001b[39m=\u001b[39m conn\u001b[39m.\u001b[39;49mgetresponse()\n\u001b[1;32m    463\u001b[0m     \u001b[39mexcept\u001b[39;00m \u001b[39mBaseException\u001b[39;00m \u001b[39mas\u001b[39;00m e:\n\u001b[1;32m    464\u001b[0m         \u001b[39m# Remove the TypeError from the exception chain in\u001b[39;00m\n\u001b[1;32m    465\u001b[0m         \u001b[39m# Python 3 (including for exceptions like SystemExit).\u001b[39;00m\n\u001b[1;32m    466\u001b[0m         \u001b[39m# Otherwise it looks like a bug in the code.\u001b[39;00m\n\u001b[1;32m    467\u001b[0m         six\u001b[39m.\u001b[39mraise_from(e, \u001b[39mNone\u001b[39;00m)\n",
      "File \u001b[0;32m/Library/Frameworks/Python.framework/Versions/3.11/lib/python3.11/http/client.py:1378\u001b[0m, in \u001b[0;36mHTTPConnection.getresponse\u001b[0;34m(self)\u001b[0m\n\u001b[1;32m   1376\u001b[0m \u001b[39mtry\u001b[39;00m:\n\u001b[1;32m   1377\u001b[0m     \u001b[39mtry\u001b[39;00m:\n\u001b[0;32m-> 1378\u001b[0m         response\u001b[39m.\u001b[39;49mbegin()\n\u001b[1;32m   1379\u001b[0m     \u001b[39mexcept\u001b[39;00m \u001b[39mConnectionError\u001b[39;00m:\n\u001b[1;32m   1380\u001b[0m         \u001b[39mself\u001b[39m\u001b[39m.\u001b[39mclose()\n",
      "File \u001b[0;32m/Library/Frameworks/Python.framework/Versions/3.11/lib/python3.11/http/client.py:318\u001b[0m, in \u001b[0;36mHTTPResponse.begin\u001b[0;34m(self)\u001b[0m\n\u001b[1;32m    316\u001b[0m \u001b[39m# read until we get a non-100 response\u001b[39;00m\n\u001b[1;32m    317\u001b[0m \u001b[39mwhile\u001b[39;00m \u001b[39mTrue\u001b[39;00m:\n\u001b[0;32m--> 318\u001b[0m     version, status, reason \u001b[39m=\u001b[39m \u001b[39mself\u001b[39;49m\u001b[39m.\u001b[39;49m_read_status()\n\u001b[1;32m    319\u001b[0m     \u001b[39mif\u001b[39;00m status \u001b[39m!=\u001b[39m CONTINUE:\n\u001b[1;32m    320\u001b[0m         \u001b[39mbreak\u001b[39;00m\n",
      "File \u001b[0;32m/Library/Frameworks/Python.framework/Versions/3.11/lib/python3.11/http/client.py:279\u001b[0m, in \u001b[0;36mHTTPResponse._read_status\u001b[0;34m(self)\u001b[0m\n\u001b[1;32m    278\u001b[0m \u001b[39mdef\u001b[39;00m \u001b[39m_read_status\u001b[39m(\u001b[39mself\u001b[39m):\n\u001b[0;32m--> 279\u001b[0m     line \u001b[39m=\u001b[39m \u001b[39mstr\u001b[39m(\u001b[39mself\u001b[39m\u001b[39m.\u001b[39mfp\u001b[39m.\u001b[39mreadline(_MAXLINE \u001b[39m+\u001b[39m \u001b[39m1\u001b[39m), \u001b[39m\"\u001b[39m\u001b[39miso-8859-1\u001b[39m\u001b[39m\"\u001b[39m)\n\u001b[1;32m    280\u001b[0m     \u001b[39mif\u001b[39;00m \u001b[39mlen\u001b[39m(line) \u001b[39m>\u001b[39m _MAXLINE:\n\u001b[1;32m    281\u001b[0m         \u001b[39mraise\u001b[39;00m LineTooLong(\u001b[39m\"\u001b[39m\u001b[39mstatus line\u001b[39m\u001b[39m\"\u001b[39m)\n",
      "File \u001b[0;32m/Library/Frameworks/Python.framework/Versions/3.11/lib/python3.11/socket.py:706\u001b[0m, in \u001b[0;36mSocketIO.readinto\u001b[0;34m(self, b)\u001b[0m\n\u001b[1;32m    704\u001b[0m \u001b[39mwhile\u001b[39;00m \u001b[39mTrue\u001b[39;00m:\n\u001b[1;32m    705\u001b[0m     \u001b[39mtry\u001b[39;00m:\n\u001b[0;32m--> 706\u001b[0m         \u001b[39mreturn\u001b[39;00m \u001b[39mself\u001b[39;49m\u001b[39m.\u001b[39;49m_sock\u001b[39m.\u001b[39;49mrecv_into(b)\n\u001b[1;32m    707\u001b[0m     \u001b[39mexcept\u001b[39;00m timeout:\n\u001b[1;32m    708\u001b[0m         \u001b[39mself\u001b[39m\u001b[39m.\u001b[39m_timeout_occurred \u001b[39m=\u001b[39m \u001b[39mTrue\u001b[39;00m\n",
      "File \u001b[0;32m/Library/Frameworks/Python.framework/Versions/3.11/lib/python3.11/ssl.py:1311\u001b[0m, in \u001b[0;36mSSLSocket.recv_into\u001b[0;34m(self, buffer, nbytes, flags)\u001b[0m\n\u001b[1;32m   1307\u001b[0m     \u001b[39mif\u001b[39;00m flags \u001b[39m!=\u001b[39m \u001b[39m0\u001b[39m:\n\u001b[1;32m   1308\u001b[0m         \u001b[39mraise\u001b[39;00m \u001b[39mValueError\u001b[39;00m(\n\u001b[1;32m   1309\u001b[0m           \u001b[39m\"\u001b[39m\u001b[39mnon-zero flags not allowed in calls to recv_into() on \u001b[39m\u001b[39m%s\u001b[39;00m\u001b[39m\"\u001b[39m \u001b[39m%\u001b[39m\n\u001b[1;32m   1310\u001b[0m           \u001b[39mself\u001b[39m\u001b[39m.\u001b[39m\u001b[39m__class__\u001b[39m)\n\u001b[0;32m-> 1311\u001b[0m     \u001b[39mreturn\u001b[39;00m \u001b[39mself\u001b[39;49m\u001b[39m.\u001b[39;49mread(nbytes, buffer)\n\u001b[1;32m   1312\u001b[0m \u001b[39melse\u001b[39;00m:\n\u001b[1;32m   1313\u001b[0m     \u001b[39mreturn\u001b[39;00m \u001b[39msuper\u001b[39m()\u001b[39m.\u001b[39mrecv_into(buffer, nbytes, flags)\n",
      "File \u001b[0;32m/Library/Frameworks/Python.framework/Versions/3.11/lib/python3.11/ssl.py:1167\u001b[0m, in \u001b[0;36mSSLSocket.read\u001b[0;34m(self, len, buffer)\u001b[0m\n\u001b[1;32m   1165\u001b[0m \u001b[39mtry\u001b[39;00m:\n\u001b[1;32m   1166\u001b[0m     \u001b[39mif\u001b[39;00m buffer \u001b[39mis\u001b[39;00m \u001b[39mnot\u001b[39;00m \u001b[39mNone\u001b[39;00m:\n\u001b[0;32m-> 1167\u001b[0m         \u001b[39mreturn\u001b[39;00m \u001b[39mself\u001b[39;49m\u001b[39m.\u001b[39;49m_sslobj\u001b[39m.\u001b[39;49mread(\u001b[39mlen\u001b[39;49m, buffer)\n\u001b[1;32m   1168\u001b[0m     \u001b[39melse\u001b[39;00m:\n\u001b[1;32m   1169\u001b[0m         \u001b[39mreturn\u001b[39;00m \u001b[39mself\u001b[39m\u001b[39m.\u001b[39m_sslobj\u001b[39m.\u001b[39mread(\u001b[39mlen\u001b[39m)\n",
      "\u001b[0;31mKeyboardInterrupt\u001b[0m: "
     ]
    }
   ],
   "source": [
    "html = urllib.request.urlopen('https://boxbox.in/products/copy-of-boxbox-oversized-t-shirt-44-lewis-hamilton-1').read()\n",
    "elements, readableText = text_from_html(html)\n",
    "elements = list(filter(tag_visible, elements))\n",
    "response = queryOracle(readableText).choices[0].message\n",
    "response"
   ]
  },
  {
   "cell_type": "code",
   "execution_count": 159,
   "metadata": {},
   "outputs": [
    {
     "name": "stdout",
     "output_type": "stream",
     "text": [
      "['Skip to main content,', 'Get extra 30% off select styles! Code FRIEND.,', 'Shop Now,', 'Gift Registry,', 'Shop Your Store,', 'Sign In,', '0,', 'Women,', 'Men,', 'Kids,', 'Home,', 'Beauty,', 'Shoes,', 'Handbags,', 'Jewelry,', 'Furniture & Mattresses,', 'Toys,', 'Gifts,', 'Trending,', 'Sale,', \"Women's Clothing,\", \"All Women's Clothing,\", 'New Arrivals,', 'Activewear,', 'Blazers,', 'Bras, Underwear & Lingerie,', '100% Cashmere,', 'Coats & Jackets,', 'Dresses,', 'Hoodies & Sweatshirts,', 'Jeans,', 'Jumpsuits & Rompers,', 'Pajamas & Robes,', 'Pants & Capris,', 'Skirts,', 'Suits & Suit Separates,', 'Sweaters,', 'Swimsuits & Cover-Ups,', 'Tops,', 'Juniors,', \"All Juniors' Clothing,\", 'Coats & Jackets,', 'Dresses,', 'Jeans,', 'Sweaters,', 'Tops,', 'Plus Sizes,', 'All Plus Size Clothing,', 'Coats & Jackets,', 'Dresses,', 'Pants,', 'Sweaters,', 'Tops,', 'More Sizes,', 'Petites (5\\'4\" & Under),', 'Maternity,', 'Complete Your Look,', 'Shoes,', 'Handbags & Wallets,', 'Accessories,', 'Beauty & Fragrance,', 'Tights, Socks, & Hosiery,', 'Jewelry & Watches,', \"Women's Brands,\", \"All Women's Brands,\", 'Nike,', 'Calvin Klein,', 'DKNY,', 'I.N.C. International Concepts,', 'Lauren Ralph Lauren,', \"Levi's,\", 'Michael Kors,', 'On 34th,', 'Tommy Hilfiger,', 'Shop By Occasion,', 'Evening,', 'Outdoor & Camping,', 'Vacation,', 'Wear to Work,', 'Wedding,', 'Discover,', 'Coat Trends,', 'Contemporary Trends,', 'Dress Trends,', 'Own Your Style,', 'Sports Fan Shop,', 'Holiday Gifts for Her,', 'Winter Essentials,', 'Limited-Time Specials,', '50% off Coats,', 'Sale & Clearance,', 'Dresses,', 'Shop All,', 'New Arrivals,', 'Formal,', 'Cocktail & Party,', 'Fall Dresses,', 'Little Black Dress,', 'Sweater Dresses,', \"Men's Clothing,\", \"All Men's Clothing,\", 'New Arrivals,', 'Blazers & Sport Coats,', 'Coats & Jackets,', 'Dress Shirts,', 'Hoodies & Sweatshirts,', 'Jeans,', 'Pajamas & Robes,', 'Pants,', 'Shirts,', 'Shorts,', 'Suits & Tuxedos,', 'Sweaters,', 'Swimwear,', 'Underwear & Socks,', \"Men's Active & Outdoor,\", 'All Activewear,', 'Outdoor Apparel & Shoes,', 'Sports Fan Shop,', \"Men's Big & Tall,\", 'All Big & Tall,', 'Jeans & Pants,', 'Tops,', \"Men's Brands,\", \"All Men's Brands,\", 'Nike,', 'adidas,', 'Calvin Klein,', \"Levi's,\", 'Polo Ralph Lauren,', 'Tommy Hilfiger,', \"Men's Shoes,\", \"All Men's Shoes,\", 'Athletic Shoes & Sneakers,', 'Boots,', 'Casual Shoes,', 'Dress Shoes,', 'Loafers & Drivers,', 'Slippers,', 'Bags & Accessories,', 'All Accessories,', 'Bags & Backpacks,', 'Belts & Suspenders,', 'Hats, Gloves & Scarves,', 'Jewelry & Cufflinks,', 'Ties & Pocket Squares,', 'Wallets,', 'Watches,', 'Cologne & Grooming,', 'All Cologne,', 'Cologne & Grooming Gift Sets,', 'All Grooming & Skin Care,', 'Discover,', 'Business Casual,', 'Contemporary Trends,', 'Cold Weather,', \"Finish Line Men's Shoes,\", 'Gifts For Him,', 'Own Your Style,', 'Sunglasses by Sunglass Hut,', 'Wedding,', 'Limited-Time Specials,', \"30% off Men's Levi's,\", 'Sale & Clearance,', 'Gifts For Him,', 'Holiday Gift Finder,', 'Gifts Under $25,', 'Gifts Under $50,', 'Gifts Under $100,', 'Luxe Gifts,', 'Holiday Dressing,', 'Baby,', 'All Baby,', 'Baby Girl (0-24 months),', 'Baby Boy (0-24 months),', 'Baby Gear & Essentials,', 'Baby Holiday Outfits,', 'Girls,', 'All Girls,', 'Toddler Girls (2T-5T),', 'Girls (4-16),', \"Girls' Holiday Outfits,\", 'Boys,', 'All Boys,', 'Toddler Boys (2T-5T),', 'Boys (4-20),', \"Boys' Holiday Outfits,\", \"Girls' Clothing,\", 'New Arrivals,', 'Activewear,', 'Basics,', 'Coats & Jackets,', 'Cozy,', 'Dresses,', 'Jeans,', 'Leggings & Pants,', 'Pajamas,', 'Sets & Outfits,', 'Shirts & Tops,', 'Shoes,', 'Shorts,', 'Skirts,', 'Sweaters,', 'Sweatshirts & Hoodies,', 'Underwear & Socks,', \"Boys' Clothing,\", 'New Arrivals,', 'Activewear,', 'Basics,', 'Coats & Jackets,', 'Cozy,', 'Jeans,', 'Outdoor,', 'Pajamas,', 'Pants,', 'Sets & Outfits,', 'Shirts,', 'Shoes,', 'Shorts,', 'Suits & Dress Shirts,', 'Sweaters,', 'Sweatshirts & Hoodies,', 'Underwear & Socks,', 'Shop Toys \"R\" Us,', 'All Toys,', '0-24 Months,', '2-4 Years Old,', '5-7 Years Old,', 'Discover,', 'Nike,', 'Baby Shower Gifts,', 'Character Shop,', 'Ralph Lauren Childrenswear,', 'Fall Trends,', \"Finish Line Kids' Shoes,\", 'Kids & Baby Room,', 'Limited-Time Specials,', 'Save On Polo Ralph Lauren,', 'Sale & Clearance,', 'GIFTS FOR KIDS,', 'All Gifts for Kids,', 'Gifts $15 & Under,', 'Gifts $25 & Under,', 'Gifts $50 & Under,', 'Gifts $100 & Under,', 'Luxe Gifts,', 'Bedding,', 'All Bedding,', 'Blankets & Throws,', 'Comforter Sets,', 'Comforters,', 'Designer Bedding,', 'Duvet Covers & Sets,', 'Pillows,', 'Sheets & Pillowcases,', 'Bath,', 'All Bath,', 'Bath Accessories,', 'Bath Rugs & Bath Mats,', 'Bath Towels,', 'Luggage,', 'All Luggage,', 'Kitchen,', 'All Kitchen,', 'Air Fryers,', 'Bakeware,', 'Blenders & Juicers,', 'Coffee & Espresso Makers,', 'Cookware,', 'Cutlery & Knives,', 'Food Storage,', 'Grills & Tools,', 'Kitchen Gadgets,', 'Mixers & Attachments,', 'Small Appliances,', 'Furniture & Mattresses,', 'All Furniture,', 'All Mattresses,', 'Entertainment and Game Room,', 'Dining,', 'All Dining,', 'Barware,', 'Dinnerware,', 'Drinkware,', 'Flatware,', 'Serveware,', 'Table Linens,', 'Cleaning & Organization,', 'All Cleaning & Organization,', 'Home Appliances,', 'Vacuums & Floor Care,', 'Electronics,', 'All Electronics,', 'Computers & Accessories,', 'TVs & Home Theater,', 'Home Decor,', 'All Home Décor,', 'Art & Wall Décor,', 'Candles & Diffusers,', 'Curtains & Drapes,', 'Flowers & Plants,', 'Lighting & Lamp Fixtures,', 'Home Accents,', 'Rugs,', 'Holiday Home,', 'Shop All Holiday,', 'Candy & Gourmet Foods,', 'Christmas Dining & Entertaining,', 'Christmas Ornaments & Decor,', 'Winter Bedding,', 'Brands We Love,', 'Charter Club,', 'Hotel Collection,', 'Dyson,', 'Samsonite,', 'The Cellar,', 'UGG,', 'Limited-Time Specials,', '20-60% Off Holiday Entertaining & Décor,', 'Sale & Clearance,', 'Fragrance,', 'All Fragrance,', 'Perfume,', 'Cologne,', 'Perfume Gift Sets,', 'Cologne Gift Sets,', 'Jumbo & Value Size,', 'Fragrance Finder,', 'Makeup,', 'All Makeup,', 'Face,', 'Eyes,', 'Lips,', 'Tools & Brushes,', 'Virtual Makeup Try On,', 'Skin Care,', 'All Skin Care,', 'Moisturizers,', 'Serums,', 'Eye Creams & Treatments,', 'Cleansers,', 'Face Sunscreen,', 'Bath & Body,', 'Tools & Devices,', 'Hair Care,', 'All Hair Care,', 'Hair Tools & Brushes,', 'Shampoo & Conditioner,', 'Styling & Treatment,', 'Beauty Gifts,', 'Beauty Gift Sets,', '$25 & Under,', '$50 & Under,', '$100 & Under,', 'Luxury Gifts,', 'Minis & Stocking Stuffers,', 'Free Gifts with Purchase,', 'Discover,', 'Best Sellers,', 'New Arrivals,', 'Luxury Brands,', 'Conscious Beauty,', 'Diverse Owned Brands,', 'Candles & Diffusers,', 'Vitamins & Supplements,', 'Beauty Box Subscription,', 'Beauty Brands,', 'All Beauty Brands,', 'Benefit Cosmetics,', 'CHANEL,', 'Clinique,', 'DIOR,', 'Estée Lauder,', 'IT Cosmetics,', 'Jo Malone London,', 'Kylie Cosmetics,', 'La Mer,', 'Lancôme,', 'MAC,', 'Shiseido,', '15% off Beauty,', 'Estée Lauder Bonus Offer! $615 Value,', 'Sale & Deals,', \"Women's Shoes,\", \"All Women's Shoes,\", 'Boots,', 'Booties,', 'Athletic Shoes & Sneakers,', 'Comfort Shoes,', 'Designer Shoes,', 'Evening & Wedding,', 'Flats & Loafers,', 'Heels & Pumps,', 'Mules & Slides,', 'Sandals,', 'Slippers,', 'Wedges,', 'New Arrivals,', \"Women's Shoe Brands,\", 'All Brands,', 'Michael Kors,', 'UGG®,', 'Birkenstock,', 'Calvin Klein,', 'Clarks,', 'COACH,', 'I.N.C. International Concepts,', 'Naturalizer,', 'New Balance,', 'Nike,', 'Sam Edelman,', 'Skechers,', 'Steve Madden,', \"Men's Shoes,\", \"All Men's Shoes,\", 'Athletic & Sneakers,', 'Boots,', 'Casual Shoes,', 'Dress Shoes,', 'Loafers & Drivers,', 'Slippers,', \"Kids' Shoes,\", \"All Kids' Shoes,\", 'Baby Shoes,', \"Boys' Shoes,\", \"Girls' Shoes,\", 'Discover,', 'Holiday Gift Guide,', \"Finish Line Women's Shoes,\", 'Vacation Shop,', 'Contemporary Trends,', 'Diverse Owned Brands,', 'Own Your Style,', \"Shop Women's Boots,\", 'All Boots & Booties,', 'Knee High Boots,', 'Dress Boots,', 'Wide Calf Boots,', '40% off Boots,', 'Sale & Clearance,', 'Brands,', 'All Brands,', 'Designer Handbags,', 'Michael Kors,', 'COACH,', 'Calvin Klein,', 'Brahmin,', 'GUESS,', 'DKNY,', 'Lauren Ralph Lauren,', 'kate spade new york,', 'Patricia Nash,', 'KARL LAGERFELD PARIS,', 'Radley London,', 'I.N.C. International Concepts,', 'On 34th,', 'Handbags & Wallets,', 'All Handbags & Wallets,', 'Fall Bags,', 'Backpacks,', 'Belt Bags & Fanny Packs,', 'Clutches & Evening Bags,', 'Crossbody Bags,', 'Hobo Bags,', 'Satchels & Top Handles,', 'Shoulder Bags,', 'Tote Bags,', 'Wallets & Wristlets,', 'Weekenders & Duffles,', 'Accessories,', 'All Accessories,', 'Belts,', 'Gloves,', 'Hair Accessories,', 'Hats,', 'Phone Cases & Tech Accessories,', 'Scarves & Wraps,', 'Travel Accessories,', 'Sunglasses & Eyewear,', 'Sunglasses by Sunglass Hut,', 'Eyeglasses by LensCrafters,', 'Book an Optical Appointment,', 'PRADA Eyewear,', 'Ray-Ban Shop,', 'WHAT TO WEAR FOR,', 'Evening & Wedding,', 'Wear To Work,', 'Vacation,', 'Discover,', 'New Arrivals,', 'Own Your Style,', 'The Signature Logo Shop,', 'Luggage,', 'All Luggage,', '30% off Designer Handbags,', '30-40% off Winter Accessories,', 'Sale & Clearance,', 'Handbag & Accessory Gifts,', 'Shop All Gifts,', 'Gifts $50 & Under,', 'Designer Gifts,', 'Stocking Stuffers,', 'Boxed Gifts & Sets,', 'Jewelry,', 'All Jewelry,', 'Bracelets,', 'Earrings,', 'Necklaces,', 'Rings,', 'Diamond Jewelry,', 'Gold Jewelry,', 'Silver Jewelry,', 'Wedding Jewelry,', 'All Wedding Jewelry,', 'Engagement Rings,', 'Engagement Ring Guide,', \"Men's Jewelry,\", \"All Men's Jewelry,\", 'Bracelets,', 'Chains,', 'Earrings,', 'Rings,', 'Pendants,', 'Watches,', 'All Watches,', 'Watch Gift Sets,', 'New Arrivals,', \"Men's Watches,\", \"Women's Watches,\", \"Kids' Watches,\", 'Luxury Watches,', 'Smart Watches,', 'Brands,', 'All Jewelry Brands,', 'All Watch Brands,', 'On 34th,', 'Bulova,', 'Citizen,', 'EFFY,', 'Gucci,', 'G-Shock,', 'Kate Spade New York,', 'Kendra Scott,', 'Le Vian,', 'Michael Kors,', 'Movado,', 'Pre-Owned Rolex,', 'Swarovski,', 'Seiko,', 'Jewelry Gifts,', 'Shop All Gifts,', 'Luxe Gifts,', 'Gifts $50 & Under,', 'Diamond Jewelry,', 'Gold Jewelry,', 'Pearl Jewelry,', 'Watches,', 'Discover,', 'Diverse Owned Brands,', 'Own Your Style,', 'Personalized Jewelry,', 'Jewelry Sale & Clearance,', 'Watches Sale & Clearance,', 'Living Room Furniture,', 'All Living Room,', 'Chairs,', 'Coffee & Accent Tables,', 'Couches & Sofas,', 'Recliners,', 'Sectional Sofas,', 'TV Stands,', 'Dining Room & Kitchen Furniture,', 'All Dining Room & Kitchen,', 'Dining Room Chairs & Benches,', 'Dining Room Sets,', 'Dining Room Tables,', 'Home Bar,', 'Bedroom Furniture,', 'All Bedroom,', 'Bedroom Sets,', 'Beds & Headboards,', 'Dressers & Chests,', 'Nightstands,', 'Mattresses,', 'All Mattresses,', 'Twin,', 'Full,', 'Queen,', 'King,', 'California King,', 'Bed Frames & Box Springs,', 'Outdoor & Patio Furniture,', 'All Outdoor & Patio,', 'Outdoor Bar & Dining Furniture,', 'Outdoor Lounge Furniture,', 'Outdoor Accessories,', 'Outdoor Conversation Sets,', 'Fire Pits,', 'Umbrellas,', 'Home Office,', 'All Home Office,', 'Desks,', 'Office Chairs,', 'Bookcases & Bookshelves,', 'Filing Cabinets,', 'Rugs,', 'All Rugs,', 'Rug Pads,', 'Rug Sets,', 'Entertainment & Game Room,', 'All Entertainment and Game Room,', 'Gaming Chairs,', 'Gaming Desks,', 'Game Tables & Sets,', 'Home Theater Seating & Furniture,', 'Limited-Time Specials,', 'Shop In Stock & Ready to Ship Furniture,', 'Sale & Clearance,', 'Discover,', 'Custom Furniture,', 'Room Planner,', 'Bernhardt Furniture,', 'Entryway,', 'Kids and Baby Room,', 'Lawn & Garden,', 'Lighting & Lamps,', 'Small Space Furniture,', 'Toys By Age,', '0-12 Months,', '12-24 Months,', '2 Years,', '3 - 4 Years,', '5-7 Years,', '8-10 Years,', '11 & Up,', 'Toys By Price,', 'Toys $10 & Under,', 'Toys $25 & Under,', 'Toys $50 & Under,', 'Toys $100 & Under,', 'Toy Brands,', 'Barbie,', 'Discovery,', 'Disney,', 'Fisher Price,', 'Harry Potter,', 'Hot Wheels,', 'LEGO,', 'LOL Surprise,', 'Marvel,', 'Melissa & Doug,', 'NERF,', 'Nintendo,', 'PAW Patrol,', 'Pokemon,', 'Star Wars,', 'Toy Types,', 'Action Figures & Playsets,', 'Arts & Crafts,', 'Building Toys,', 'Dolls & Dollhouses,', 'Electronics & Video Games,', 'Games & Puzzles,', 'Outdoor Toys,', 'Pretend Play,', 'STEM & Educational Toys,', 'Stuffed Animals,', 'Surprise Toys,', 'Vehicles & Remote Control,', 'Movie Gift Guide,', 'PAW Patrol,', 'Trolls 3,', 'Wish,', 'Holiday Gift Guide,', 'Collectibles,', 'Big Gifts That Wow,', 'Hot Toy List,', 'Kids Books,', 'Kids Stocking Stuffers,', 'Limited Time Specials,', 'Extra 10% off Barbie, Fisher Price & More,', 'Sale & Clearance,', 'Gifts For Her,', 'All Gifts for Her,', 'Beauty,', 'Fragrance,', 'Active, Hoodies & Sweats,', 'Sweaters & Cashmere,', 'Handbags & Accessories,', 'Jewelry & Watches,', 'Gifts For Teens,', 'All Gifts for Teens,', 'For Her,', 'For Him,', 'Beauty,', 'Tech,', 'Shop Toys \"R\" Us,', 'Shop All Toys,', \"Geoffrey's Hot Toy List,\", 'Gifts For Him,', 'All Gifts For Him,', 'Skincare & Grooming,', 'Active, Hoodies & Sweats,', 'Sleepwear & Basics,', 'Jewelry & Watches,', 'Gifts For Kids,', 'All Gifts for Kids,', 'Boys,', 'Girls,', 'Gifts for the Home,', 'All Gifts for Home,', 'Blankets & Throws,', 'Dining & Entertaining,', 'Appliances,', 'Gifts by Price,', 'Shop All Gifts,', 'Gifts $15 & Under,', 'Gifts $25 & Under,', 'Gifts $50 & Under,', 'Gifts $100 & Under,', 'Luxe Gifts,', 'Holiday Home,', 'Home Decor & Candles,', 'Home Holiday Shop,', 'Gifts For Everyone,', 'Shop Everything Holiday,', 'Tech,', 'Stocking Stuffers,', 'Matching Family Style,', 'Gifts We Love,', 'Warm & Cozy Vibes,', 'Secret Santa,', 'Gift Cards,', 'E-Gift Cards,', 'Physical Gift Card,', 'Unique Gifts,', 'Spa Day Enthusiast,', 'Sports Fan Shop,', 'Fitness & Exercise Pro,', 'The Hosting & Cooking MVP,', 'Jetsetter,', 'Pet Parent,', 'More Gifting Ideas,', 'Barnes & Noble,', 'Gourmet Food & Candy,', 'Diverse Owned Gifts,', \"Macy's Wine Shop,\", 'Ralph Lauren Baby Gifts,', 'New Arrivals,', 'All New Arrivals,', \"Women's,\", \"Men's,\", \"Kid's,\", 'Home,', 'Beauty,', 'Shoes,', 'Handbags,', 'Jewelry & Watches,', 'Wedding Guest Shop,', 'For Her,', 'For Him,', 'Merry & Bright,', 'For Her,', 'For Him,', 'For Kids,', 'For Home,', 'Beauty,', 'Warm Winter Neutrals,', 'For Her,', 'For Him,', 'Names to Know,', 'Arezzo,', 'Dyson,', 'Nike,', 'On 34th,', 'Petal and Pup,', 'Polo Ralph Lauren Style Guide,', 'RayBan,', 'Holiday Home,', 'Halloween,', 'Holiday Housewarming,', 'Gilded Neutrals,', 'CONTEMPORARY,', \"Women's,\", \"Men's,\", 'Home,', 'Beauty,', 'Discover,', 'Coat Confidential,', 'Dress Destination,', 'Going Out Shop,', 'Halloween Costumes,', \"Macy's Live,\", 'Style Crew,', 'Wear to Work,', 'Winter Essentials,', 'MISSION EVERY ONE,', 'Conscious Beauty,', 'Sustainability,', \"WOMEN'S,\", \"All Women's Sale,\", 'Dresses,', 'Activewear,', 'Coats & Jackets,', 'Sweaters,', 'Bras, Underwear & Lingerie,', 'Plus Size,', 'Petites,', 'Juniors,', 'BEAUTY,', 'Sale & Deals,', 'Free Gifts with Purchase,', \"MEN'S,\", \"All Men's Sale,\", 'Activewear,', 'Jeans & Pants,', 'Shirts,', 'Suits & Tuxedos,', 'Sweaters & Sweatshirts,', 'Coats & Jackets,', \"Men's Accessories,\", \"KIDS' & TOYS,\", 'All Baby Sale,', \"All Girls' Sale,\", \"All Boys' Sale,\", 'Toys & Games,', 'SHOES,', \"Women's Shoes,\", \"Men's Shoes,\", \"Kids' Shoes,\", 'Finish Line,', 'HANDBAGS & ACCESSORIES,', 'Handbags & Accessories,', 'Designer Handbags,', 'Sunglass Hut,', 'JEWELRY & WATCHES,', 'Jewelry,', 'Watches,', 'HOME,', 'All Home Sale,', 'Holiday Décor,', 'Bed & Bath,', 'Kitchen,', 'Dining,', 'Furniture,', 'Mattresses,', 'Luggage,', 'Electronics,', 'Limited-Time Specials,', 'Sale & Clearance,', 'Deals,', 'SALE & CLEARANCE,', 'New Markdowns,', 'Last Act,', 'SHOP BY PRICE,', 'Under $10,', 'Under $25,', 'Under $40,', 'Men,', '/,', 'Pajamas & Robes,', 'Polo Ralph Lauren,', \"Men's Polo Player Pajama Pants,\", 'positive reviews is 83%. with 459,', '4.2 (,', '459,', '999 customers purchased,', 'Polo Ralph Lauren,', \"Men's Polo Player Pajama Pants,\", 'positive reviews is 83%. with 459,', '4.2 (,', '459,', '$38.50,', '$55.00,', 'Details,', 'Please select a color,', 'Beach Blue,', 'Black/Red,', 'Black/White,', 'Navy,', 'Current selected color: Black/White,', 'Color:,', 'Black/White,', 'This shade is your,', 'best match,', 'Size:,', 'Please select,', 'Size Chart,', 'S,', 'M,', 'L,', 'XL,', '$38.50,', '$55.00,', 'Details,', 'Add To Bag,', 'Buy Now,', '999 customers purchased,', 'Product Details,', 'A simple but stylish luxury that you should not be without, these pajama pants by Polo Ralph Lauren are made from breathable and supremely comfortable cotton. Designed with an elasticated waistband and button fly for ease of wear, these pants are finished in an iconic Ralph Lauren print for an added layer of quintessential style. The Polo Ralph Lauren logo is featured at the center front of the waistband.,', 'Visible brand logo,', 'All cotton,', 'Machine washable,', 'Imported,', 'Web ID: 180067,', 'Materials & Care,', 'Machine washable,', 'All cotton,', 'Shipping & Returns,', 'This item qualifies for Free Shipping with minimum purchase!,', 'exclusions & details,', 'Enjoy a longer window to return most of your holiday purchases. See our Extended Holiday Return Policy to see if this item qualifies.,', 'For complete details, read our,', 'Shipping,', 'Return,', 'Please call customer service for returns.,', 'Customer reviews,', '459\\n              Reviews,', '5 Stars,', '315,', '4 Stars,', '38,', '3 Stars,', '24,', '2 Stars,', '29,', '1 Star,', '53,', 'User Images,', 'Write a Review,', 'Sort by,', 'Oct 24, 2023,', 'Very thin material,', 'The material is much thinner (less substantial) than that of pairs \\nI have previously purchased. It is almost see through. This pair weighed 5.8 oz; previous pair weighed 8.6 oz.,', 'Read More,', 'Customer review from,', 'Ralph Lauren,', 'Deede,', 'Oct 24, 2023,', 'Classic,', 'Great pajamas,', 'Read More,', 'Was this helpful?,', '0,', '0,', 'alejandro,', 'Oct 16, 2023,', 'Great for young men my son loved them a lot,', 'Great like the fabric,', 'Read More,', 'Was this helpful?,', '0,', '0,', 'RJR,', 'Oct 16, 2023,', 'No as pictured,', \"Not as pictured. Have a pair that I love so ordered another. The pair I received had a drawstring which I don't like as opposed to the fully elastic waistband on my original pants and as pictured on the website. Returned.,\", 'Read More,', 'Was this helpful?,', '0,', '0,', 'sienva13,', 'Oct 02, 2023,', 'Too thin.,', \"[This review was collected as part of a promotion.] It's too thin and weird fabric. Returned.,\", 'Read More,', 'Customer review from,', 'bloomingdales.com,', 'Marcel,', 'Sep 30, 2023,', 'WHAT’S HAPPENING TO RALPH LAUREN!!!,', 'I don’t mind paying extra for the Quality; however; when a designer starts charging me extra for poor Quality products then it’s time to move on and leave the designer behind!!! This is the fourth item I buy from POLO RALPH LAUREN and I return it for its poor quality!!!! I’m NOT sure what’s going on with RL but the quality for the last few years been very low and UNACCEPTABLE!!! Even the pictures posted for the PJ is TOTALLY A DIFFERENT PJ ALL TOGETHER!!!! I highly recommend you stay away from this PJ. The material is so thin and transparent you can see thru it.,', 'Read More,', 'Was this helpful?,', '1,', '0,', 'Bobby,', 'Sep 27, 2023,', 'Nasty - super transparent,', 'do not buy. this is super transparent to the point that you can get in trouble if you open the door wearing this. return!,', 'Read More,', 'Was this helpful?,', '1,', '3,', 'My husband love it,', 'Sep 24, 2023,', 'Incentivized Review,', 'Polo pajamas pants,', 'My husband love it,', 'Read More,', 'Customer review from,', 'bloomingdales.com,', 'Shop by Department,', 'Womens Clothing,', 'Mens Clothing,', 'Kids Clothing,', 'For The Home,', 'Shoes,', 'Handbags & Accessories,', 'Beauty,', 'Furniture,', 'Bed & Bath,', 'Jewelry,', 'Watches,', 'Juniors,', 'Plus Size Clothing,', 'Petite Clothing,', 'Baby Products,', 'Sale & Clearance,', 'Customer Service,', 'Contact Us,', 'FAQs,', 'Klarna,', 'Order Lookup,', 'Para Ayuda,', 'Returns,', 'Shipping & Delivery,', 'United States,', \"Macy's Credit Card,\", \"Apply for Macy's Credit Card,\", 'Cardholder Benefits,', 'Gift Cards,', 'Gift Card Balance,', \"Macy's Card Services,\", 'Pay Your Credit Card Bill,', 'Stores & Services,', 'Curbside & In Store Pickup,', 'Locations & Hours,', \"Macy's App,\", \"Macy's Backstage,\", \"Macy's Wine Shop,\", 'Personal Stylist,', 'Store Events,', 'Tell Us What You Think,', 'Gift Registry,', \"Macy's Inc.,\", 'Corporate Sales,', 'Corporate Site,', 'Investors,', 'International Wholesale & Sourcing,', 'MacysJOBS,', 'Mission Every One,', 'News Room,', 'Site Map,', 'Sustainability,', 'Be the first to know with our emails,', 'If texts are more your style, we can send those too.,', 'Sign Me Up,', \"Open A Macy's Card & Get 20% Off,\", 'Today & tomorrow,,', '*,', \"up to a total savings of $100 on your Macy's purchases over the 2 days.,\", '*Subject to credit approval.,', 'Details,', 'Apply now,', 'Connect With Us,', 'Download the Macy’s App,', 'Privacy Notice,', 'Cookie Preferences,', 'Interest Based Ads,', 'CA Privacy Rights,', 'Do Not Sell or Share My Personal Information,', 'Legal Notice,', 'Customer Bill of Rights,', 'CA Transparency in Supply Chains,', 'Product Recalls,', 'Pricing Policy,', 'Accessibility,', '© 2023 Macy’s. All rights reserved. Macys.com, LLC, 151 West 34th Street, New York, NY 10001. Request our,', 'corporate name & address by email.,', 'GCP,', 'PDP,', '6.1092.35,', 'localhost,', '1.980.23,', '10/30/2023 22:13:40 EDT,', 'east4,', '10/19/2023 12:07:35 EDT,', '6.1092.35,', '@page/digital-product-ui-mcom,', '6.1092.35,']\n"
     ]
    },
    {
     "name": "stderr",
     "output_type": "stream",
     "text": [
      "/var/folders/ys/yk2qwk_x4nqdv328vt6g5kxr0000gn/T/ipykernel_18492/80449784.py:31: DeprecationWarning: The 'text' argument to find()-type methods is deprecated. Use 'string' instead.\n",
      "  texts = soup.findAll(text=True)\n"
     ]
    }
   ],
   "source": [
    "for i in d['urls'][30:31]:\n",
    "    tree = hm.fromstring(d['code'][i])\n",
    "    elements, readableText = text_from_html(d['code'][i])\n",
    "    elements = list(filter(tag_visible, elements))\n",
    "    # response = queryOracle(readableText).choices[0].message\n",
    "\n",
    "# response\n",
    "\n",
    "nodes = []\n",
    "for i in tree.getiterator():\n",
    "    nodes.append(i)\n",
    "\n",
    "\n",
    "nodeList = list(filter(visible_node, nodes))\n",
    "nodeList = [node.text.strip() + \",\" for node in nodeList]\n",
    "print(nodeList)"
   ]
  },
  {
   "cell_type": "code",
   "execution_count": 160,
   "metadata": {},
   "outputs": [],
   "source": [
    "prompt = \"You are a webpage analyzer. You will be given readable text from an HTML DOM Tree of an e-commerce website in the form: Text For Node 1, Text For Node 2, Text for Node 3. Classify the nodes into the following categories: {}\"\n",
    "prompt += \". Return the classification in the following format: Class1: Text for node 1, Text for node 2 Class2: Text for node 3\"\n",
    "response = queryOracle(\"\\n\".join(nodeList), prompt).choices[0].message"
   ]
  },
  {
   "cell_type": "code",
   "execution_count": 168,
   "metadata": {},
   "outputs": [
    {
     "name": "stdout",
     "output_type": "stream",
     "text": [
      "You are a webpage analyzer. You will be given readable text from an HTML DOM Tree of an e-commerce website in the form: Text For Node 1, Text For Node 2, Text for Node 3. Classify the nodes into the following categories: Navigation, Product Info, Product Images, Checkout Options, shopping cart and other. Return the classification in the following format: Class1: Text for node 1, Text for node 2 Class2: Text for node 3\n"
     ]
    }
   ],
   "source": [
    "sections = ['Navigation', 'Product Info', 'Product Images', 'Checkout Options', 'shopping cart', 'other']\n",
    "sectionsOfInterest = \", \".join(sections[:-1]) + \" and \" + sections[-1]\n",
    "prompt = \"You are a webpage analyzer. You will be given readable text from an HTML DOM Tree of an e-commerce website in the form: Text For Node 1, Text For Node 2, Text for Node 3. Classify the nodes into the following categories: {}\".format(sectionsOfInterest)\n",
    "prompt += \". Return the classification in the following format: Class1: Text for node 1, Text for node 2 Class2: Text for node 3\"\n",
    "print(prompt)"
   ]
  },
  {
   "cell_type": "code",
   "execution_count": 161,
   "metadata": {},
   "outputs": [
    {
     "name": "stdout",
     "output_type": "stream",
     "text": [
      "{\n",
      "  \"role\": \"assistant\",\n",
      "  \"content\": \"Navigation: Skip to main content, Shop Now, Gift Registry, Shop Your Store, Sign In, 0, Women, Men, Kids, Home, Beauty, Shoes, Handbags, Jewelry, Furniture & Mattresses, Toys, Gifts, Trending, Sale, Shop by Department, Womens Clothing, Mens Clothing, Kids Clothing, For The Home, Shoes, Handbags & Accessories, Beauty, Furniture, Bed & Bath, Jewelry, Watches, Juniors, Plus Size Clothing, Petite Clothing, Baby Products, Sale & Clearance\\n\\nPage Heading: Polo Ralph Lauren, Men's Polo Player Pajama Pants\\n\\nBuying Selections: Please select a color, Beach Blue, Black/Red, Black/White, Navy, Current selected color: Black/White, Color:, Black/White, This shade is your, best match, Size:, Please select, Size Chart, S, M, L, XL, $38.50, $55.00, Details, Add To Bag, Buy Now, Product Details, Materials & Care, Machine washable, All cotton, Shipping & Returns, This item qualifies for Free Shipping with minimum purchase!\\n\\nCheckout Options: Add To Bag, Buy Now, Open A Macy's Card & Get 20% Off, Today & tomorrow,, *, up to a total savings of $100 on your Macy's purchases over the 2 days., *Subject to credit approval., Details, Apply now\"\n",
      "}\n"
     ]
    }
   ],
   "source": [
    "print(response)"
   ]
  },
  {
   "cell_type": "code",
   "execution_count": 137,
   "metadata": {},
   "outputs": [],
   "source": [
    "res = requests.get(\"https://boxbox.in/products/copy-of-boxbox-oversized-t-shirt-44-lewis-hamilton-1\")\n",
    "f = open('test.html', 'w')\n",
    "f.write(res.text)\n",
    "f.close()\n",
    "tree = hm.fromstring(res.text)"
   ]
  },
  {
   "cell_type": "code",
   "execution_count": 40,
   "metadata": {},
   "outputs": [
    {
     "data": {
      "text/plain": [
       "[' \"Skip to content\", \"Home Formula 1 Formula 1 T-shirts Oversized T-shirts Sweatshirts Hoodies Football Football T-shirts Oversized T-shirts Contact About Us Blogs Smiles Log in Instagram Search Log in Cart\"\\n\\n',\n",
       " ' \"Oversized T-shirt Lewis Hamilton Sketch\"\\n\\n',\n",
       " ' \"Size S Variant sold out or unavailable M Variant sold out or unavailable L Variant sold out or unavailable XL Variant sold out or unavailable Color Black Variant sold out or unavailable White Variant sold out or unavailable\", \"Product variants S / Black - Rs. 999.00 S / White - Rs. 999.00 M / Black - Rs. 999.00 M / White - Rs. 999.00 L / Black - Rs. 999.00 L / White - Rs. 999.00 XL / Black - Rs. 999.00 XL / White - Rs. 999.00\", \"Quantity ( 0 in cart) Decrease quantity for boxbox Oversized T-shirt Lewis Hamilton Sketch Increase quantity for boxbox Oversized T-shirt Lewis Hamilton Sketch Add to cart\"\\n\\n',\n",
       " ' \"Your cart is empty Continue shopping Have an account? Log in to check out faster. Your cart Loading... Subtotal Rs. 0.00 Taxes and shipping calculated at checkout Update Check out\", \"Update Check out\", \"Shipping calculated at checkout\", \"Add to cart\", \"Taxes and shipping calculated at checkout\"']"
      ]
     },
     "execution_count": 40,
     "metadata": {},
     "output_type": "execute_result"
    }
   ],
   "source": [
    "capSections = [i.title() for i in sections]\n",
    "\n",
    "parts = []\n",
    "inds = []\n",
    "for count, i in enumerate(capSections):\n",
    "    p = response.content.find(i, 0)\n",
    "    start = p+len(i)+1\n",
    "    inds.append(p+len(i)+1)\n",
    "    sub = response.content[start : len(response.content)]\n",
    "    parts.append(sub)\n",
    "    if (count > 0):\n",
    "        parts[count-1] = parts[count-1][0: p - inds[count-1]]\n",
    "\n",
    "\n",
    "parts"
   ]
  },
  {
   "cell_type": "markdown",
   "metadata": {},
   "source": [
    "# FIND HTML CODE FOR CONTENT SECTIONS"
   ]
  },
  {
   "cell_type": "code",
   "execution_count": 47,
   "metadata": {},
   "outputs": [
    {
     "name": "stdout",
     "output_type": "stream",
     "text": [
      "Finding HTML Code for navigation Section\n",
      "Finding HTML Code for page heading Section\n",
      "Finding HTML Code for buying selections Section\n",
      "Finding HTML Code for checkout options Section\n"
     ]
    }
   ],
   "source": [
    "code = {}\n",
    "for count, section in enumerate(sections):\n",
    "    print(\"Finding HTML Code for {} Section\".format(section))\n",
    "    l = len(parts[count])\n",
    "    res = []\n",
    "    vals = []\n",
    "    for i in elements:\n",
    "        em = bert_sim(i.text, parts[0])\n",
    "        res.append(em)\n",
    "        vals.append(i.text)\n",
    "\n",
    "    inds = [c for c, i in enumerate(res) if i > similarityThreshold]\n",
    "    code[section] = [elements[i].parent for i in inds]\n"
   ]
  },
  {
   "cell_type": "code",
   "execution_count": 45,
   "metadata": {},
   "outputs": [],
   "source": [
    "nodeinds = []\n",
    "nodetext = []\n",
    "count = 0\n",
    "for i in tree.getiterator():\n",
    "    s = i.text\n",
    "    if (s != None and s != \"None\"):\n",
    "        s = s.strip()\n",
    "        if (s != \"\\n\" and s != \" \"):\n",
    "            nodeinds.append(count)\n",
    "            nodetext.append(s)\n",
    "    count += 1"
   ]
  },
  {
   "cell_type": "code",
   "execution_count": 55,
   "metadata": {},
   "outputs": [
    {
     "name": "stdout",
     "output_type": "stream",
     "text": [
      "Finding HTML Code for navigation Section\n",
      "Finding HTML Code for page heading Section\n",
      "Finding HTML Code for buying selections Section\n",
      "Finding HTML Code for checkout options Section\n"
     ]
    }
   ],
   "source": [
    "domCode = {}\n",
    "for count, section in enumerate(sections):\n",
    "    print(\"Finding HTML Code for {} Section\".format(section))\n",
    "    l = len(parts[count])\n",
    "    res = []\n",
    "    vals = []\n",
    "    for i in nodetext:\n",
    "        em = bert_sim(i, parts[0])\n",
    "        res.append(em)\n",
    "        vals.append(i)\n",
    "\n",
    "    inds = [nodeinds[c] for c, i in enumerate(res) if i > similarityThreshold]\n",
    "    # code[section] = [elements[i].parent for i in inds]\n",
    "    domCode[section] = inds"
   ]
  },
  {
   "cell_type": "code",
   "execution_count": 4,
   "metadata": {},
   "outputs": [
    {
     "ename": "NameError",
     "evalue": "name 'domCode' is not defined",
     "output_type": "error",
     "traceback": [
      "\u001b[0;31m---------------------------------------------------------------------------\u001b[0m",
      "\u001b[0;31mNameError\u001b[0m                                 Traceback (most recent call last)",
      "\u001b[1;32m/Users/rohit/Desktop/AB-Extension/Section/chunker.ipynb Cell 13\u001b[0m line \u001b[0;36m1\n\u001b[0;32m----> <a href='vscode-notebook-cell:/Users/rohit/Desktop/AB-Extension/Section/chunker.ipynb#X15sZmlsZQ%3D%3D?line=0'>1</a>\u001b[0m domCode[\u001b[39m\"\u001b[39m\u001b[39mnavigation\u001b[39m\u001b[39m\"\u001b[39m]\n",
      "\u001b[0;31mNameError\u001b[0m: name 'domCode' is not defined"
     ]
    }
   ],
   "source": [
    "domCode[\"navigation\"]"
   ]
  },
  {
   "cell_type": "markdown",
   "metadata": {},
   "source": [
    "# END PROTOTYPING"
   ]
  },
  {
   "cell_type": "markdown",
   "metadata": {},
   "source": [
    "# BEGIN EXPERIMENTS"
   ]
  },
  {
   "cell_type": "code",
   "execution_count": null,
   "metadata": {},
   "outputs": [],
   "source": [
    "import json\n",
    "\n",
    "f = open('../Dataset/data.json', 'r')\n",
    "val = f.read()\n",
    "f.close()\n",
    "\n",
    "d = json.loads(val)"
   ]
  },
  {
   "cell_type": "code",
   "execution_count": null,
   "metadata": {},
   "outputs": [],
   "source": [
    "pred = {}\n",
    "count = 0\n",
    "for i in d['urls'][0:40]:\n",
    "    print(count)\n",
    "    count+= 1\n",
    "    res = classify(d['code'][i])\n",
    "    pred[i] = res"
   ]
  },
  {
   "cell_type": "code",
   "execution_count": null,
   "metadata": {},
   "outputs": [],
   "source": [
    "with open('../Dataset/pred.pkl', 'wb') as file:\n",
    "    pickle.dump(pred, file)"
   ]
  },
  {
   "cell_type": "markdown",
   "metadata": {},
   "source": [
    "# Tests"
   ]
  },
  {
   "cell_type": "code",
   "execution_count": 76,
   "metadata": {},
   "outputs": [],
   "source": [
    "import json\n",
    "\n",
    "f = open('../Dataset/data.json', 'r')\n",
    "val = f.read()\n",
    "f.close()\n",
    "\n",
    "d = json.loads(val)"
   ]
  },
  {
   "cell_type": "code",
   "execution_count": 178,
   "metadata": {},
   "outputs": [],
   "source": [
    "with open(\"../Dataset/pred.pkl\", \"rb\") as file:\n",
    "  pred = pickle.load(file)"
   ]
  },
  {
   "cell_type": "code",
   "execution_count": 262,
   "metadata": {},
   "outputs": [
    {
     "name": "stdout",
     "output_type": "stream",
     "text": [
      "0.3174635778530463\n",
      "0.18248991399349185\n"
     ]
    }
   ],
   "source": [
    "acc = []\n",
    "fscore = []\n",
    "totalPred = []\n",
    "totalActual = []\n",
    "for i in pred:\n",
    "    actual = d[\"labels\"][i]\n",
    "    procPred = processPred(pred[i], len(actual))\n",
    "    # print(procPred)\n",
    "    acc.append(np.sum(np.equal(actual, procPred))/len(actual))\n",
    "    fscore.append(fbeta_score(actual, procPred, average='weighted', beta=0.5))\n",
    "    totalActual.extend(actual)\n",
    "    totalPred.extend(procPred)\n",
    "    # print(procPred)\n",
    "    \n",
    "\n",
    "print(sum(acc)/len(acc))\n",
    "print(sum(fscore)/len(fscore))"
   ]
  },
  {
   "cell_type": "code",
   "execution_count": 263,
   "metadata": {},
   "outputs": [
    {
     "name": "stdout",
     "output_type": "stream",
     "text": [
      "0.18953458647627575\n",
      "0.3202531941232803\n"
     ]
    }
   ],
   "source": [
    "print(fbeta_score(totalActual, totalPred, average='weighted', beta=0.5))\n",
    "print(np.sum(np.equal(totalActual, totalPred))/len(totalActual))"
   ]
  },
  {
   "cell_type": "code",
   "execution_count": 264,
   "metadata": {},
   "outputs": [
    {
     "data": {
      "image/png": "[encoded data removed]",
      "text/plain": [
       "<Figure size 640x480 with 2 Axes>"
      ]
     },
     "metadata": {},
     "output_type": "display_data"
    }
   ],
   "source": [
    "cm_matrix = confusion_matrix(totalActual, totalPred)\n",
    "cm = ConfusionMatrixDisplay(confusion_matrix = cm_matrix)\n",
    "cm.plot()\n",
    "plt.show()"
   ]
  },
  {
   "cell_type": "code",
   "execution_count": null,
   "metadata": {},
   "outputs": [],
   "source": []
  }
 ],
 "metadata": {
  "kernelspec": {
   "display_name": "Python 3",
   "language": "python",
   "name": "python3"
  },
  "language_info": {
   "codemirror_mode": {
    "name": "ipython",
    "version": 3
   },
   "file_extension": ".py",
   "mimetype": "text/x-python",
   "name": "python",
   "nbconvert_exporter": "python",
   "pygments_lexer": "ipython3",
   "version": "3.11.5"
  }
 },
 "nbformat": 4,
 "nbformat_minor": 2
}
