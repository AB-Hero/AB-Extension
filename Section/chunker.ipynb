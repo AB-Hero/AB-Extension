{
 "cells": [
  {
   "cell_type": "code",
   "execution_count": 1,
   "metadata": {},
   "outputs": [
    {
     "name": "stderr",
     "output_type": "stream",
     "text": [
      "/Users/ram/miniforge3/envs/gptresearcher/lib/python3.11/site-packages/tqdm/auto.py:21: TqdmWarning: IProgress not found. Please update jupyter and ipywidgets. See https://ipywidgets.readthedocs.io/en/stable/user_install.html\n",
      "  from .autonotebook import tqdm as notebook_tqdm\n"
     ]
    }
   ],
   "source": [
    "from bs4 import BeautifulSoup\n",
    "from bs4.element import Comment\n",
    "import urllib.request\n",
    "import openai\n",
    "from sentence_transformers import SentenceTransformer, util\n",
    "import os"
   ]
  },
  {
   "cell_type": "code",
   "execution_count": 15,
   "metadata": {},
   "outputs": [],
   "source": [
    "sections = ['navigation', 'page heading', 'buying selections', 'checkout options']\n",
    "similarityThreshold = 0.3\n",
    "model = SentenceTransformer('sentence-transformers/all-roberta-large-v1')\n",
    "url = 'https://boxbox.in/products/copy-of-boxbox-oversized-t-shirt-44-lewis-hamilton-1'"
   ]
  },
  {
   "cell_type": "markdown",
   "metadata": {},
   "source": [
    "# HELPER FUNCTIONS"
   ]
  },
  {
   "cell_type": "code",
   "execution_count": 16,
   "metadata": {},
   "outputs": [],
   "source": [
    "openai.api_key = os.getenv(\"OPENAI_API_KEY\")\n",
    "\n",
    "def tag_visible(element):\n",
    "    if element.parent.name in ['style', 'script', 'head', 'title', 'meta', '[document]']:\n",
    "        return False\n",
    "    if isinstance(element, Comment):\n",
    "        return False\n",
    "    \n",
    "    if str(element) == '\\n':\n",
    "        return False\n",
    "    \n",
    "    if str(element) == \" \":\n",
    "        return False\n",
    "    \n",
    "    return True\n",
    "\n",
    "\n",
    "def text_from_html(body):\n",
    "    soup = BeautifulSoup(body, 'html.parser')\n",
    "    texts = soup.findAll(text=True)\n",
    "    visible_texts = filter(tag_visible, texts)  \n",
    "    return texts, u\" \".join(t.strip() for t in visible_texts)\n",
    "\n",
    "\n",
    "def queryOracle(text):\n",
    "    if len(sections) <= 1:\n",
    "        sectionsOfInterest = \"\".join(sections)\n",
    "    else:\n",
    "        sectionsOfInterest = \", \".join(sections[:-1]) + \" and \" + sections[-1]\n",
    "\n",
    "    completion = openai.ChatCompletion.create(\n",
    "    model = \"gpt-3.5-turbo\",\n",
    "    temperature = 0.8,\n",
    "    max_tokens = 2000,\n",
    "    messages = [\n",
    "        {\"role\": \"system\", \"content\": \"You are a webpage analyzer. You find sections of text on an e-commerce webpage that correspond to {}.\".format(sectionsOfInterest)},\n",
    "        {\"role\": \"user\", \"content\": text}\n",
    "    ]\n",
    "    )\n",
    "    return completion\n",
    "\n",
    "\n",
    "def findOverlap(readableText, lines):\n",
    "    text = \"\"\n",
    "    for count, i in enumerate(lines):\n",
    "        text += str(count) + \") \" + i\n",
    "\n",
    "    completion = openai.ChatCompletion.create(\n",
    "    model = \"gpt-3.5-turbo\",\n",
    "    temperature = 0.8,\n",
    "    max_tokens = 2000,\n",
    "    messages = [\n",
    "        {\"role\": \"system\", \"content\": \"You a text overlap analyzer. You find sections of a paragraph by giving the exact sequence of text that overlap most with a list of sentences.\"},\n",
    "        {\"role\": \"user\", \"content\": \"Paragraph: {}\\n\\n\\n Sentences: {}\".format(readableText, text)}\n",
    "    ]\n",
    "    )\n",
    "\n",
    "    return completion\n",
    "\n",
    "def bert_sim(text1, text2):\n",
    "    embeddings = model.encode([text1,text2])\n",
    "    res = util.pytorch_cos_sim(embeddings[0], embeddings[1])\n",
    "    return res.numpy()[0][0] \n",
    "\n"
   ]
  },
  {
   "cell_type": "code",
   "execution_count": 2,
   "metadata": {},
   "outputs": [],
   "source": [
    "completion = openai.ChatCompletion.create(\n",
    "    model = \"gpt-3.5-turbo\",\n",
    "    temperature = 0.8,\n",
    "    max_tokens = 2000,\n",
    "    messages = [\n",
    "        {\"role\": \"system\", \"content\": \"You a text overlap analyzer. You find sections of a paragraph by giving the exact sequence of text that overlap most with a list of sentences.\"},\n",
    "        {\"role\": \"user\", \"content\": \"Paragraph: {}\\n\\n\\n Sentences: {}\".format(\"hello world bla bla\", \"bla bla\")}\n",
    "    ]\n",
    "    )"
   ]
  },
  {
   "cell_type": "code",
   "execution_count": 3,
   "metadata": {},
   "outputs": [
    {
     "data": {
      "text/plain": [
       "<OpenAIObject chat.completion id=chatcmpl-8FrLKFyBKpvMtpZTvaE0zVGPZBOX1 at 0x292e1e270> JSON: {\n",
       "  \"id\": \"chatcmpl-8FrLKFyBKpvMtpZTvaE0zVGPZBOX1\",\n",
       "  \"object\": \"chat.completion\",\n",
       "  \"created\": 1698790662,\n",
       "  \"model\": \"gpt-3.5-turbo-0613\",\n",
       "  \"choices\": [\n",
       "    {\n",
       "      \"index\": 0,\n",
       "      \"message\": {\n",
       "        \"role\": \"assistant\",\n",
       "        \"content\": \"The exact sequence of text that overlaps most with the list of sentences is \\\"bla bla\\\".\"\n",
       "      },\n",
       "      \"finish_reason\": \"stop\"\n",
       "    }\n",
       "  ],\n",
       "  \"usage\": {\n",
       "    \"prompt_tokens\": 51,\n",
       "    \"completion_tokens\": 18,\n",
       "    \"total_tokens\": 69\n",
       "  }\n",
       "}"
      ]
     },
     "execution_count": 3,
     "metadata": {},
     "output_type": "execute_result"
    }
   ],
   "source": [
    "completion"
   ]
  },
  {
   "cell_type": "markdown",
   "metadata": {},
   "source": [
    "# SCRAPE PAGE & FIND CONTENT SECTIONS"
   ]
  },
  {
   "cell_type": "code",
   "execution_count": 17,
   "metadata": {},
   "outputs": [
    {
     "name": "stderr",
     "output_type": "stream",
     "text": [
      "/var/folders/8g/x9ncyhjj3wdchhjpvtkcr_640000gp/T/ipykernel_8283/3673795332.py:20: DeprecationWarning: The 'text' argument to find()-type methods is deprecated. Use 'string' instead.\n",
      "  texts = soup.findAll(text=True)\n"
     ]
    },
    {
     "data": {
      "text/plain": [
       "<OpenAIObject at 0x29532f6b0> JSON: {\n",
       "  \"role\": \"assistant\",\n",
       "  \"content\": \"Navigation: \\n- \\\"Home\\\"\\n- \\\"Formula 1\\\"\\n- \\\"Football\\\"\\n- \\\"Contact\\\"\\n- \\\"About Us\\\"\\n- \\\"Blogs\\\"\\n- \\\"Smiles\\\"\\n- \\\"Log in\\\"\\n- \\\"Instagram\\\"\\n\\nPage Heading: \\n- \\\"Formula 1 T-shirts Oversized T-shirts Sweatshirts Hoodies\\\"\\n\\nBuying Selections: \\n- \\\"Oversized T-shirt Lewis Hamilton Sketch\\\"\\n- Size options: S, M, L, XL\\n- Color options: Black, White\\n- Quantity selection\\n\\nCheckout Options: \\n- \\\"Add to cart\\\"\\n- \\\"Couldn't load pickup availability\\\"\\n- \\\"Refresh\\\"\\n- \\\"FREE SHIPPING across INDIA!\\\"\\n- \\\"Easy returns and replacements\\\"\\n- \\\"Payment methods\\\"\"\n",
       "}"
      ]
     },
     "execution_count": 17,
     "metadata": {},
     "output_type": "execute_result"
    }
   ],
   "source": [
    "html = urllib.request.urlopen(url).read()\n",
    "elements, readableText = text_from_html(html)\n",
    "elements = list(filter(tag_visible, elements))\n",
    "response = queryOracle(readableText).choices[0].message\n",
    "response"
   ]
  },
  {
   "cell_type": "code",
   "execution_count": 18,
   "metadata": {},
   "outputs": [
    {
     "data": {
      "text/plain": [
       "[' \\n- \"Home\"\\n- \"Formula 1\"\\n- \"Football\"\\n- \"Contact\"\\n- \"About Us\"\\n- \"Blogs\"\\n- \"Smiles\"\\n- \"Log in\"\\n- \"Instagram\"\\n\\n',\n",
       " ' \\n- \"Formula 1 T-shirts Oversized T-shirts Sweatshirts Hoodies\"\\n\\n',\n",
       " ' \\n- \"Oversized T-shirt Lewis Hamilton Sketch\"\\n- Size options: S, M, L, XL\\n- Color options: Black, White\\n- Quantity selection\\n\\n',\n",
       " ' \\n- \"Add to cart\"\\n- \"Couldn\\'t load pickup availability\"\\n- \"Refresh\"\\n- \"FREE SHIPPING across INDIA!\"\\n- \"Easy returns and replacements\"\\n- \"Payment methods\"']"
      ]
     },
     "execution_count": 18,
     "metadata": {},
     "output_type": "execute_result"
    }
   ],
   "source": [
    "capSections = [i.title() for i in sections]\n",
    "\n",
    "parts = []\n",
    "inds = []\n",
    "for count, i in enumerate(capSections):\n",
    "    p = response.content.find(i, 0)\n",
    "    start = p+len(i)+1\n",
    "    inds.append(p+len(i)+1)\n",
    "    sub = response.content[start : len(response.content)]\n",
    "    parts.append(sub)\n",
    "    if (count > 0):\n",
    "        parts[count-1] = parts[count-1][0: p - inds[count-1]]\n",
    "\n",
    "\n",
    "parts"
   ]
  },
  {
   "cell_type": "markdown",
   "metadata": {},
   "source": [
    "# FIND HTML CODE FOR CONTENT SECTIONS"
   ]
  },
  {
   "cell_type": "code",
   "execution_count": 19,
   "metadata": {},
   "outputs": [
    {
     "name": "stdout",
     "output_type": "stream",
     "text": [
      "Finding HTML Code for navigation Section\n",
      "Finding HTML Code for page heading Section\n",
      "Finding HTML Code for buying selections Section\n",
      "Finding HTML Code for checkout options Section\n"
     ]
    }
   ],
   "source": [
    "code = {}\n",
    "for count, section in enumerate(sections):\n",
    "    print(\"Finding HTML Code for {} Section\".format(section))\n",
    "    l = len(parts[count])\n",
    "    res = []\n",
    "    vals = []\n",
    "    for i in elements:\n",
    "        em = bert_sim(i.text, parts[0])\n",
    "        res.append(em)\n",
    "        vals.append(i.text)\n",
    "\n",
    "    inds = [c for c, i in enumerate(res) if i > similarityThreshold]\n",
    "    code[section] = [elements[i].parent for i in inds]\n"
   ]
  },
  {
   "cell_type": "code",
   "execution_count": 20,
   "metadata": {},
   "outputs": [
    {
     "data": {
      "text/plain": [
       "<a class=\"menu-drawer__menu-item list-menu__item link link--text focus-inset\" href=\"/\" id=\"HeaderDrawer-home\">\n",
       "                      Home\n",
       "                    </a>"
      ]
     },
     "execution_count": 20,
     "metadata": {},
     "output_type": "execute_result"
    }
   ],
   "source": [
    "code['page heading'][0]"
   ]
  }
 ],
 "metadata": {
  "kernelspec": {
   "display_name": "Python 3",
   "language": "python",
   "name": "python3"
  },
  "language_info": {
   "codemirror_mode": {
    "name": "ipython",
    "version": 3
   },
   "file_extension": ".py",
   "mimetype": "text/x-python",
   "name": "python",
   "nbconvert_exporter": "python",
   "pygments_lexer": "ipython3",
   "version": "3.11.4"
  }
 },
 "nbformat": 4,
 "nbformat_minor": 2
}
