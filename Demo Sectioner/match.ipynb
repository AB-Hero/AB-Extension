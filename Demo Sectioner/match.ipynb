{
 "cells": [
  {
   "cell_type": "code",
   "execution_count": 1,
   "metadata": {},
   "outputs": [
    {
     "name": "stderr",
     "output_type": "stream",
     "text": [
      "/Library/Frameworks/Python.framework/Versions/3.11/lib/python3.11/site-packages/tqdm/auto.py:21: TqdmWarning: IProgress not found. Please update jupyter and ipywidgets. See https://ipywidgets.readthedocs.io/en/stable/user_install.html\n",
      "  from .autonotebook import tqdm as notebook_tqdm\n"
     ]
    }
   ],
   "source": [
    "from sentence_transformers import SentenceTransformer, util\n",
    "from transformers import AutoTokenizer, AutoModel\n",
    "import torch.nn.functional as F\n",
    "from lxml import html, etree\n",
    "from requests_html import HTMLSession\n",
    "import torch"
   ]
  },
  {
   "cell_type": "code",
   "execution_count": 2,
   "metadata": {},
   "outputs": [],
   "source": [
    "# model = SentenceTransformer('sentence-transformers/all-roberta-large-v1')\n",
    "tokenizer = AutoTokenizer.from_pretrained('sentence-transformers/all-MiniLM-L6-v2')\n",
    "model = AutoModel.from_pretrained('sentence-transformers/all-MiniLM-L6-v2')"
   ]
  },
  {
   "cell_type": "code",
   "execution_count": 7,
   "metadata": {},
   "outputs": [],
   "source": [
    "def getNodes(code):\n",
    "    res = {}\n",
    "    t = html.fromstring(code)\n",
    "    r = etree.ElementTree(t)\n",
    "    t = t.find('body')\n",
    "    \n",
    "\n",
    "    def traverseNodes(node):\n",
    "        res[r.getpath(node)] = node\n",
    "        for i in node.getchildren():\n",
    "            traverseNodes(i)\n",
    "\n",
    "\n",
    "    traverseNodes(t)\n",
    "    return res\n",
    "\n",
    "\n",
    "def cleanNodes(nodes):\n",
    "    res = {}\n",
    "    for i in nodes:\n",
    "        n = nodes[i]\n",
    "        if n.tag is etree.Comment or n.tag is etree.ProcessingInstruction or n.text == None or n.text.strip() == \"\":\n",
    "            pass\n",
    "        else:\n",
    "            res[i] = n.text\n",
    "\n",
    "    return res\n",
    "\n",
    "def mean_pooling(model_output, attention_mask):\n",
    "    token_embeddings = model_output[0] #First element of model_output contains all token embeddings\n",
    "    input_mask_expanded = attention_mask.unsqueeze(-1).expand(token_embeddings.size()).float()\n",
    "    return torch.sum(token_embeddings * input_mask_expanded, 1) / torch.clamp(input_mask_expanded.sum(1), min=1e-9)\n",
    "\n",
    "\n",
    "def embbed(nodes):\n",
    "    # res = {}\n",
    "    # for i in nodes:\n",
    "    #     res[i] =  torch.tensor(model.encode([nodes[i]])[0])\n",
    "    # return res\n",
    "\n",
    "    res = {}\n",
    "    for i in nodes:\n",
    "        encoded_input = tokenizer(nodes[i], padding=True, truncation=True, return_tensors='pt')\n",
    "\n",
    "        with torch.no_grad():\n",
    "            model_output = model(**encoded_input)\n",
    "\n",
    "        sentence_embeddings = mean_pooling(model_output, encoded_input['attention_mask'])\n",
    "        sentence_embeddings = F.normalize(sentence_embeddings, p=2, dim=1)\n",
    "    \n",
    "        res[i] = sentence_embeddings\n",
    "\n",
    "    return res\n",
    "    \n",
    "\n"
   ]
  },
  {
   "cell_type": "markdown",
   "metadata": {},
   "source": [
    "# APIs to call"
   ]
  },
  {
   "cell_type": "code",
   "execution_count": 3,
   "metadata": {},
   "outputs": [],
   "source": [
    "def loadAsyncronousEmbeddings(code):\n",
    "    nodes = getNodes(code)\n",
    "    cleanedNodes = cleanNodes(nodes)\n",
    "    embbedNodes = embbed(cleanedNodes)\n",
    "    \n",
    "    return embbedNodes\n",
    "\n",
    "\n",
    "def getSimilarityMatch(code, embeddedNodes, matchString, uniqueIndentifier):\n",
    "    encoded_input = tokenizer(matchString, padding=True, truncation=True, return_tensors='pt')\n",
    "    with torch.no_grad():\n",
    "        model_output = model(**encoded_input)\n",
    "\n",
    "    compareEmbed = mean_pooling(model_output, encoded_input['attention_mask'])\n",
    "    compareEmbed = F.normalize(compareEmbed, p=2, dim=1)\n",
    "\n",
    "    res = {}\n",
    "    for i in embeddedNodes:\n",
    "        res[i] = util.pytorch_cos_sim(embeddedNodes[i], compareEmbed).tolist()[0][0]\n",
    "\n",
    "    \n",
    "    maxNodeXPath = max(res, key=res.get)\n",
    "    tree = html.fromstring(code)\n",
    "    codelems = tree.getroottree().xpath(maxNodeXPath)\n",
    "    for i in codelems:\n",
    "        i.attrib[\"class\"] =  i.attrib[\"class\"] + \" \" + \"custom-text-suggestion-\"+ str(uniqueIndentifier)\n",
    "\n",
    "    return etree.tostring(tree)    \n",
    "    \n"
   ]
  },
  {
   "cell_type": "markdown",
   "metadata": {},
   "source": [
    "# Deployed API Usage"
   ]
  },
  {
   "cell_type": "code",
   "execution_count": 70,
   "metadata": {},
   "outputs": [],
   "source": [
    "import requests\n",
    "import json\n",
    "\n",
    "# The URL of the Flask endpoint (run server github)\n",
    "url = \"http://localhost:5000/loadAsyncronousEmbeddings\"\n",
    "\n",
    "# JSON payload to be sent\n",
    "payload = {\n",
    "    \"url\": \"https://wix.com\"\n",
    "}"
   ]
  },
  {
   "cell_type": "code",
   "execution_count": null,
   "metadata": {},
   "outputs": [],
   "source": [
    "# Make the POST request\n",
    "response = requests.post(url, json=payload)\n",
    "out = response.json()"
   ]
  },
  {
   "cell_type": "code",
   "execution_count": 71,
   "metadata": {},
   "outputs": [],
   "source": [
    "def json_to_tensor(json_data):\n",
    "    tensor_dict = json.loads(json_data)\n",
    "    for key in tensor_dict:\n",
    "        tensor_dict[key] = torch.tensor(tensor_dict[key])\n",
    "    return tensor_dict"
   ]
  },
  {
   "cell_type": "code",
   "execution_count": 72,
   "metadata": {},
   "outputs": [
    {
     "name": "stdout",
     "output_type": "stream",
     "text": [
      "u Wix Marketplace {}\n",
      "/html/body/div[1]/div/div[3]/div/main/div/div/div/div[2]/div[1]/div/div/section[14]/div[2]/div/section[2]/div[2]/div/div[2]/div/div[2]/div/div/div[2]/div/div[5]/div[3]/div[2]/p/a/u\n",
      "0.7335759401321411\n"
     ]
    },
    {
     "data": {
      "text/plain": [
       "{'score': 0.7335759401321411,\n",
       " 'tag': 'u',\n",
       " 'text': 'Wix Marketplace',\n",
       " 'xpath': '/html/body/div[1]/div/div[3]/div/main/div/div/div/div[2]/div[1]/div/div/section[14]/div[2]/div/section[2]/div[2]/div/div[2]/div/div[2]/div/div/div[2]/div/div[5]/div[3]/div[2]/p/a/u'}"
      ]
     },
     "execution_count": 72,
     "metadata": {},
     "output_type": "execute_result"
    }
   ],
   "source": [
    "nodes = json_to_tensor(out[\"nodes\"])\n",
    "out_html = out[\"code\"]\n",
    "labelledcode  = getSimilarityMatch(out_html, nodes, 'created with Wix', 1)\n",
    "\n",
    "url = \"http://localhost:5000/getSimilarityMatch\"\n",
    "payload = {\n",
    "    \"code\": out[\"code\"],\n",
    "    \"embeddedNodes\": out[\"nodes\"],\n",
    "    \"matchString\": \"created with Wix\",\n",
    "    \"uniqueIndentifier\": \"1\"\n",
    "}\n",
    "newresponse = requests.post(url, json=payload)\n",
    "newresponse.json()"
   ]
  },
  {
   "cell_type": "markdown",
   "metadata": {},
   "source": [
    "# Local API Usage"
   ]
  },
  {
   "cell_type": "code",
   "execution_count": 5,
   "metadata": {},
   "outputs": [],
   "source": [
    "session = HTMLSession()\n",
    "r = session.get(\"https://wix.com\")\n",
    "code = html.fromstring(r.text)"
   ]
  },
  {
   "cell_type": "code",
   "execution_count": 8,
   "metadata": {},
   "outputs": [],
   "source": [
    "res = loadAsyncronousEmbeddings(r.text)\n",
    "labelledcode  = getSimilarityMatch(r.text, res, \"Create a website without limits\", 1)"
   ]
  },
  {
   "cell_type": "markdown",
   "metadata": {},
   "source": [
    "# Experiments"
   ]
  },
  {
   "cell_type": "code",
   "execution_count": 177,
   "metadata": {},
   "outputs": [],
   "source": [
    "session = HTMLSession()\n",
    "r = session.get(\"https://wix.com\")\n",
    "code = html.fromstring(r.text)"
   ]
  },
  {
   "cell_type": "code",
   "execution_count": 178,
   "metadata": {},
   "outputs": [],
   "source": [
    "nodes = getNodes(r.text)\n",
    "cleanedNodes = cleanNodes(nodes)\n",
    "embeddedNodes = embbed(cleanedNodes)"
   ]
  },
  {
   "cell_type": "code",
   "execution_count": 130,
   "metadata": {},
   "outputs": [],
   "source": [
    "compareString = \"Create a website without limits\"\n",
    "# compareEmbed = torch.tensor(model.encode([compareString])[0])\n",
    "encoded_input = tokenizer(compareString, padding=True, truncation=True, return_tensors='pt')\n",
    "\n",
    "with torch.no_grad():\n",
    "    model_output = model(**encoded_input)\n",
    "\n",
    "compareEmbed = mean_pooling(model_output, encoded_input['attention_mask'])\n",
    "compareEmbed = F.normalize(compareEmbed, p=2, dim=1)"
   ]
  },
  {
   "cell_type": "code",
   "execution_count": 139,
   "metadata": {},
   "outputs": [],
   "source": [
    "res = {}\n",
    "for i in embeddedNodes:\n",
    "    res[i] = util.pytorch_cos_sim(embeddedNodes[i], compareEmbed).tolist()[0][0]"
   ]
  },
  {
   "cell_type": "code",
   "execution_count": 143,
   "metadata": {},
   "outputs": [
    {
     "data": {
      "text/plain": [
       "'Create a website without limits'"
      ]
     },
     "execution_count": 143,
     "metadata": {},
     "output_type": "execute_result"
    }
   ],
   "source": [
    "maxXPath = max(res, key=res.get)\n",
    "nodes[\"/body/div[1]/div/div[3]/div/main/div/div/div/div[2]/div[1]/div/div/section[1]/div[2]/div/section[2]/div[2]/div/div[2]/div/div[2]/h1/span/span/span/span\"].text"
   ]
  },
  {
   "cell_type": "code",
   "execution_count": null,
   "metadata": {},
   "outputs": [],
   "source": []
  }
 ],
 "metadata": {
  "kernelspec": {
   "display_name": "Python 3",
   "language": "python",
   "name": "python3"
  },
  "language_info": {
   "codemirror_mode": {
    "name": "ipython",
    "version": 3
   },
   "file_extension": ".py",
   "mimetype": "text/x-python",
   "name": "python",
   "nbconvert_exporter": "python",
   "pygments_lexer": "ipython3",
   "version": "3.11.5"
  }
 },
 "nbformat": 4,
 "nbformat_minor": 2
}
